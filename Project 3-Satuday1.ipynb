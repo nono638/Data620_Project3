{
 "cells": [
  {
   "cell_type": "markdown",
   "id": "553d3ad4",
   "metadata": {},
   "source": [
    "# Project 3\n",
    "Benson Toi, Noah Collin, Ahmed Elsaeyed"
   ]
  },
  {
   "cell_type": "markdown",
   "id": "0ad2e080",
   "metadata": {},
   "source": [
    "### The first code section was copied from:\n",
    "https://www.geeksforgeeks.org/python-gender-identification-by-name-using-nltk/\n",
    "   \n",
    "We do not take credit for this section"
   ]
  },
  {
   "cell_type": "markdown",
   "id": "8a0531f5",
   "metadata": {},
   "source": [
    "### Prompt:\n",
    "Using any of the three classifiers described in chapter 6 of Natural \n",
    "Language Processing with Python, and any features you can think of,\n",
    " build the best name gender classifier you can. Begin by splitting the Names \n",
    "Corpus into three subsets: 500 words for the test set, 500 words for the dev-test set, \n",
    "and the remaining 6900 words for the training set. Then, starting with the example name \n",
    "gender classifier, make incremental improvements. Use the dev-test set to check your progress. Once you are satisfied \n",
    "with your classifier, check its final performance on the test set. How does the performance on the test set compare to the\n",
    " performance on the dev-test set? Is this what you'd expect?\n",
    "\n",
    "\n",
    "Project is due 7/5.\n",
    "\n",
    "Source: Natural Language Processing with Python, exercise 6.10.2."
   ]
  },
  {
   "cell_type": "code",
   "execution_count": 1,
   "id": "d239fd3e",
   "metadata": {},
   "outputs": [
    {
     "name": "stdout",
     "output_type": "stream",
     "text": [
      "nltk version: 3.7\n",
      "pandas version: 1.4.2\n"
     ]
    }
   ],
   "source": [
    "# importing libraries\n",
    "import random\n",
    "import nltk\n",
    "import pandas as pd\n",
    "print(\"nltk version: {}\".format(nltk.__version__))\n",
    "print(\"pandas version: {}\".format(pd.__version__))"
   ]
  },
  {
   "cell_type": "code",
   "execution_count": 2,
   "id": "8949ae6a",
   "metadata": {},
   "outputs": [],
   "source": [
    "#nltk.download('names')\n",
    "from nltk.corpus import names"
   ]
  },
  {
   "cell_type": "code",
   "execution_count": 3,
   "id": "0eaad608",
   "metadata": {},
   "outputs": [],
   "source": [
    "random.seed(1492) #To ensure consistency across notebooks"
   ]
  },
  {
   "cell_type": "code",
   "execution_count": 4,
   "id": "83ef5815",
   "metadata": {},
   "outputs": [
    {
     "data": {
      "text/plain": [
       "{'last_letter': 'r'}"
      ]
     },
     "execution_count": 4,
     "metadata": {},
     "output_type": "execute_result"
    }
   ],
   "source": [
    "def gender_features(word):\n",
    "  return {'last_letter': word[-1]} #returns a dictionary\n",
    "gender_features('mahavir')\n",
    "# output : {'last_letter': 'r'}\n"
   ]
  },
  {
   "cell_type": "code",
   "execution_count": 5,
   "id": "e91234da",
   "metadata": {},
   "outputs": [
    {
     "name": "stdout",
     "output_type": "stream",
     "text": [
      "Mahavir classified as: male\n",
      "0.7628962923159591\n",
      "Most Informative Features\n",
      "             last_letter = 'a'            female : male   =     33.3 : 1.0\n",
      "             last_letter = 'k'              male : female =     32.2 : 1.0\n",
      "             last_letter = 'f'              male : female =     17.3 : 1.0\n",
      "             last_letter = 'p'              male : female =     11.2 : 1.0\n",
      "             last_letter = 'v'              male : female =     10.5 : 1.0\n"
     ]
    }
   ],
   "source": [
    "# preparing a list of examples and corresponding class labels.\n",
    "labeled_names = ([(name, 'male') for name in names.words('male.txt')]+\n",
    "      [(name, 'female') for name in names.words('female.txt')])\n",
    "\n",
    "random.shuffle(labeled_names)\n",
    "\n",
    "# we use the feature extractor to process the names data.\n",
    "featuresets = [(gender_features(n), gender)\n",
    "      for (n, gender)in labeled_names]\n",
    "\n",
    "# Divide the resulting list of feature\n",
    "# sets into a training set and a test set.\n",
    "train_set, test_set = featuresets[500:], featuresets[:500]\n",
    "\n",
    "# The training set is used to\n",
    "# train a new \"naive Bayes\" classifier.\n",
    "classifier = nltk.NaiveBayesClassifier.train(train_set)\n",
    "\n",
    "print(\"Mahavir classified as:\",classifier.classify(gender_features('mahavir')))\n",
    "\n",
    "# output should be 'male'\n",
    "print(nltk.classify.accuracy(classifier, train_set))\n",
    "\n",
    "# it shows accuracy of our classifier and\n",
    "# train_set. which must be more than 99 %\n",
    "classifier.show_most_informative_features(5)"
   ]
  },
  {
   "cell_type": "code",
   "execution_count": 6,
   "id": "e25dc7a6",
   "metadata": {},
   "outputs": [
    {
     "data": {
      "text/plain": [
       "7944"
      ]
     },
     "execution_count": 6,
     "metadata": {},
     "output_type": "execute_result"
    }
   ],
   "source": [
    "len(labeled_names)"
   ]
  },
  {
   "cell_type": "code",
   "execution_count": 7,
   "id": "7e85acc5",
   "metadata": {},
   "outputs": [
    {
     "data": {
      "text/plain": [
       "[({'last_letter': 'y'}, 'male'),\n",
       " ({'last_letter': 'e'}, 'female'),\n",
       " ({'last_letter': 'h'}, 'female'),\n",
       " ({'last_letter': 'e'}, 'female'),\n",
       " ({'last_letter': 'd'}, 'female')]"
      ]
     },
     "execution_count": 7,
     "metadata": {},
     "output_type": "execute_result"
    }
   ],
   "source": [
    "featuresets[:5]"
   ]
  },
  {
   "cell_type": "code",
   "execution_count": 8,
   "id": "9115dcc7",
   "metadata": {},
   "outputs": [
    {
     "data": {
      "text/plain": [
       "'female'"
      ]
     },
     "execution_count": 8,
     "metadata": {},
     "output_type": "execute_result"
    }
   ],
   "source": [
    "featuresets[-1][1]"
   ]
  },
  {
   "cell_type": "code",
   "execution_count": 9,
   "id": "f451c147",
   "metadata": {},
   "outputs": [
    {
     "name": "stdout",
     "output_type": "stream",
     "text": [
      "Most Informative Features\n",
      "             last_letter = 'a'            female : male   =     33.3 : 1.0\n",
      "             last_letter = 'k'              male : female =     32.2 : 1.0\n",
      "             last_letter = 'f'              male : female =     17.3 : 1.0\n",
      "             last_letter = 'p'              male : female =     11.2 : 1.0\n",
      "             last_letter = 'v'              male : female =     10.5 : 1.0\n"
     ]
    }
   ],
   "source": [
    "classifier.show_most_informative_features(5)\n",
    "# 10 indicates 10 rows\n",
    "\n"
   ]
  },
  {
   "cell_type": "markdown",
   "id": "5dd60345",
   "metadata": {},
   "source": [
    "#### The cells below were copied.  We do not take credit for this:\n",
    "from https://www.nltk.org/book/ch06.html"
   ]
  },
  {
   "cell_type": "code",
   "execution_count": 10,
   "id": "5e038a06",
   "metadata": {},
   "outputs": [],
   "source": [
    "def gender_features2(name):\n",
    "    features = {}\n",
    "    features[\"first_letter\"] = name[0].lower()\n",
    "    features[\"last_letter\"] = name[-1].lower()\n",
    "    for letter in 'abcdefghijklmnopqrstuvwxyz':\n",
    "        features[\"count({})\".format(letter)] = name.lower().count(letter)\n",
    "        features[\"has({})\".format(letter)] = (letter in name.lower())\n",
    "    return features"
   ]
  },
  {
   "cell_type": "code",
   "execution_count": 11,
   "id": "bbc21a0a",
   "metadata": {
    "scrolled": false
   },
   "outputs": [
    {
     "name": "stdout",
     "output_type": "stream",
     "text": [
      "first_letter :\t j\n",
      "last_letter :\t n\n",
      "count(a) :\t 0\n",
      "has(a) :\t False\n",
      "count(b) :\t 0\n",
      "has(b) :\t False\n",
      "count(c) :\t 0\n",
      "has(c) :\t False\n",
      "count(d) :\t 0\n",
      "has(d) :\t False\n",
      "...\n"
     ]
    }
   ],
   "source": [
    "count = 0\n",
    "for i in gender_features2('John').items():\n",
    "    print(i[0], \":\\t\", i[1])\n",
    "    count +=1\n",
    "    if count>=10:\n",
    "        print(\"...\")\n",
    "        break"
   ]
  },
  {
   "cell_type": "code",
   "execution_count": 12,
   "id": "a52212f4",
   "metadata": {},
   "outputs": [
    {
     "name": "stdout",
     "output_type": "stream",
     "text": [
      "0.762\n"
     ]
    }
   ],
   "source": [
    "featuresets = [(gender_features2(n), gender) for (n, gender) in labeled_names]\n",
    "train_set, test_set = featuresets[500:], featuresets[:500]\n",
    "classifier = nltk.NaiveBayesClassifier.train(train_set)\n",
    "print(nltk.classify.accuracy(classifier, test_set))"
   ]
  },
  {
   "cell_type": "code",
   "execution_count": 13,
   "id": "de27832b",
   "metadata": {},
   "outputs": [],
   "source": [
    "train_names = labeled_names[500:]\n",
    "devtest_names = labeled_names[500:1500]\n",
    "test_names = labeled_names[:1500]"
   ]
  },
  {
   "cell_type": "code",
   "execution_count": 14,
   "id": "d6dbd4ad",
   "metadata": {},
   "outputs": [
    {
     "name": "stdout",
     "output_type": "stream",
     "text": [
      "0.761\n"
     ]
    }
   ],
   "source": [
    "train_set = [(gender_features(n), gender) for (n, gender) in train_names]\n",
    "devtest_set = [(gender_features(n), gender) for (n, gender) in devtest_names]\n",
    "test_set = [(gender_features(n), gender) for (n, gender) in test_names]\n",
    "classifier = nltk.NaiveBayesClassifier.train(train_set)\n",
    "print(nltk.classify.accuracy(classifier, devtest_set))"
   ]
  },
  {
   "cell_type": "code",
   "execution_count": 15,
   "id": "6854f99a",
   "metadata": {},
   "outputs": [
    {
     "name": "stdout",
     "output_type": "stream",
     "text": [
      "This mode made 239 errors.  That's 23.9% of the devTest set.\n"
     ]
    }
   ],
   "source": [
    "errors = []\n",
    "for (name, tag) in devtest_names:\n",
    "    guess = classifier.classify(gender_features(name))\n",
    "    if guess != tag:\n",
    "        errors.append( (tag, guess, name) )\n",
    "print(\"This mode made {} errors.  That's {}% of the devTest set.\".format(\\\n",
    "                                                                         len(errors),\n",
    "                                                                         round((len(errors) / len(devtest_set) ) *100,2)\n",
    "                                                                        )\n",
    "     )\n",
    "                                                                         "
   ]
  },
  {
   "cell_type": "code",
   "execution_count": 16,
   "id": "3f0cc93c",
   "metadata": {},
   "outputs": [],
   "source": [
    "def gender_features(word):\n",
    "    return {'suffix1': word[-1:],\n",
    "    'suffix2': word[-2:]}"
   ]
  },
  {
   "cell_type": "code",
   "execution_count": 17,
   "id": "772d8e23",
   "metadata": {},
   "outputs": [
    {
     "name": "stdout",
     "output_type": "stream",
     "text": [
      "0.777\n"
     ]
    }
   ],
   "source": [
    "train_set = [(gender_features(n), gender) for (n, gender) in train_names]\n",
    "devtest_set = [(gender_features(n), gender) for (n, gender) in devtest_names]\n",
    "classifier = nltk.NaiveBayesClassifier.train(train_set)\n",
    "print(nltk.classify.accuracy(classifier, devtest_set))"
   ]
  },
  {
   "cell_type": "markdown",
   "id": "2715955a",
   "metadata": {},
   "source": [
    "## Students' Code"
   ]
  },
  {
   "cell_type": "code",
   "execution_count": 18,
   "id": "4a2c2662",
   "metadata": {},
   "outputs": [
    {
     "data": {
      "text/html": [
       "<div>\n",
       "<style scoped>\n",
       "    .dataframe tbody tr th:only-of-type {\n",
       "        vertical-align: middle;\n",
       "    }\n",
       "\n",
       "    .dataframe tbody tr th {\n",
       "        vertical-align: top;\n",
       "    }\n",
       "\n",
       "    .dataframe thead th {\n",
       "        text-align: right;\n",
       "    }\n",
       "</style>\n",
       "<table border=\"1\" class=\"dataframe\">\n",
       "  <thead>\n",
       "    <tr style=\"text-align: right;\">\n",
       "      <th></th>\n",
       "      <th>Approach</th>\n",
       "      <th>Train Size</th>\n",
       "      <th>Traing split 50-50</th>\n",
       "      <th>Score</th>\n",
       "    </tr>\n",
       "  </thead>\n",
       "  <tbody>\n",
       "    <tr>\n",
       "      <th>0</th>\n",
       "      <td>Last Letter Only</td>\n",
       "      <td>500</td>\n",
       "      <td>False</td>\n",
       "      <td>0.762</td>\n",
       "    </tr>\n",
       "    <tr>\n",
       "      <th>1</th>\n",
       "      <td>First and Last Letter</td>\n",
       "      <td>500</td>\n",
       "      <td>False</td>\n",
       "      <td>0.777</td>\n",
       "    </tr>\n",
       "  </tbody>\n",
       "</table>\n",
       "</div>"
      ],
      "text/plain": [
       "                Approach  Train Size  Traing split 50-50  Score\n",
       "0       Last Letter Only         500               False  0.762\n",
       "1  First and Last Letter         500               False  0.777"
      ]
     },
     "execution_count": 18,
     "metadata": {},
     "output_type": "execute_result"
    }
   ],
   "source": [
    "df1 = pd.DataFrame({\"Approach\": [\"Last Letter Only\", \"First and Last Letter\"],\\\n",
    "                    \"Train Size\":[500,500], \"Traing split 50-50\":[False, False], \"Score\": [.762,.777 ]})\n",
    "df1.head()"
   ]
  },
  {
   "cell_type": "code",
   "execution_count": 19,
   "id": "da772a2f",
   "metadata": {},
   "outputs": [
    {
     "name": "stdout",
     "output_type": "stream",
     "text": [
      "There are 2943 males and 5001 females. 37.05% of the dataset is male.\n"
     ]
    }
   ],
   "source": [
    "print(\"There are {} males and {} females. \\\n",
    "{}% of the dataset is male.\".format(\\\n",
    "                                 len([guy for guy in labeled_names if guy[1]==\"male\"]),\n",
    "                                len([girl for girl in labeled_names if girl[1]==\"female\"]),\n",
    "                                round( ( (len([guy for guy in labeled_names if guy[1]==\"male\"])/\\\n",
    "                                len(labeled_names))*100)\\\n",
    "                                ,2)\n",
    "                                )\n",
    "     )"
   ]
  },
  {
   "cell_type": "markdown",
   "id": "5178aa08",
   "metadata": {},
   "source": [
    "### Hypothesis 1: \n",
    "#### Make the training set 50/50 by sex first to see if that alone will improve results."
   ]
  },
  {
   "cell_type": "code",
   "execution_count": 20,
   "id": "3bce1afd",
   "metadata": {},
   "outputs": [],
   "source": [
    "newlyOrderedLabeled_names = []"
   ]
  },
  {
   "cell_type": "code",
   "execution_count": 21,
   "id": "c37ff158",
   "metadata": {},
   "outputs": [
    {
     "name": "stdout",
     "output_type": "stream",
     "text": [
      "250 250 7944\n"
     ]
    }
   ],
   "source": [
    "#Create newly ordered labeled names list, where the first 250 will be male, \n",
    "#the second 250 will be female,\n",
    "#and the rest are a random distribtion\n",
    "\n",
    "#Don't run this cell more than once!\n",
    "firstTwoFiftyMales=[]\n",
    "secondTwoFiftyFemales =[]\n",
    "labeled_names2 = labeled_names.copy() #passing by value, not reference\n",
    "trainingSize = 500\n",
    "\n",
    "malesNotYetSelected = True\n",
    "femalesNotYetSelected = True\n",
    "\n",
    "loopcounter = 0\n",
    "\n",
    "if(trainingSize%2 !=0):\n",
    "    print(\"Invalid training size.  Must be an even integer.  You will get invalid results...\")\n",
    "\n",
    "while(malesNotYetSelected | femalesNotYetSelected):\n",
    "    if(malesNotYetSelected):\n",
    "        rando = random.choice(range(len(labeled_names2)))\n",
    "        if((labeled_names2[rando][1]==\"male\") & \\\n",
    "          (labeled_names2[rando] not in firstTwoFiftyMales) ):\n",
    "            labeled_nameToBeAdded = labeled_names2.pop(rando) #We remove the random male...\n",
    "            firstTwoFiftyMales.append(labeled_nameToBeAdded) #and put it in the first 250\n",
    "    if(femalesNotYetSelected): #not elif\n",
    "        rando = random.choice(range(len(labeled_names2)))\n",
    "        if((labeled_names2[rando][1]==\"female\") & \\\n",
    "          (labeled_names2[rando] not in secondTwoFiftyFemales) ):\n",
    "            labeled_nameToBeAdded = labeled_names2.pop(rando) #We remove the random female...\n",
    "            secondTwoFiftyFemales.append(labeled_nameToBeAdded) #and put it in the Second 250\n",
    "    loopcounter = loopcounter +1\n",
    "    if(loopcounter %1000 == 0):\n",
    "        print(loopcounter, \"loops so far...\")\n",
    "        if(femalesNotYetSelected == False):\n",
    "            print(\"Women already selected though.\")\n",
    "    if(len(firstTwoFiftyMales)>= trainingSize/2):\n",
    "        malesNotYetSelected = False\n",
    "    if(len(secondTwoFiftyFemales)>=trainingSize/2):\n",
    "        femalesNotYetSelected = False\n",
    "print(len(firstTwoFiftyMales), len(secondTwoFiftyFemales), len(labeled_names))"
   ]
  },
  {
   "cell_type": "code",
   "execution_count": 22,
   "id": "f96d0ca4",
   "metadata": {},
   "outputs": [
    {
     "name": "stdout",
     "output_type": "stream",
     "text": [
      "7944 True\n"
     ]
    }
   ],
   "source": [
    "newlyOrderedLabeled_names = firstTwoFiftyMales + secondTwoFiftyFemales + labeled_names2\n",
    "print(len(newlyOrderedLabeled_names),  \\\n",
    "      len(newlyOrderedLabeled_names) == \\\n",
    "      (len(labeled_names2) + len(firstTwoFiftyMales) + len(secondTwoFiftyFemales) )\\\n",
    "     )\n",
    "#the length is the same. If this bool isn't printing as True,  restart the kernel and \n",
    "#rerun the notebook"
   ]
  },
  {
   "cell_type": "code",
   "execution_count": 23,
   "id": "b11b49e7",
   "metadata": {},
   "outputs": [
    {
     "name": "stdout",
     "output_type": "stream",
     "text": [
      "0.764\n"
     ]
    }
   ],
   "source": [
    "#using the same gender_features2 for now, only changing traindata\n",
    "featuresets = [(gender_features2(n), gender) for (n, gender) in newlyOrderedLabeled_names]\n",
    "train_set, test_set = featuresets[500:],\\\n",
    "featuresets[:500]\n",
    "classifier = nltk.NaiveBayesClassifier.train(train_set)\n",
    "print(nltk.classify.accuracy(classifier, test_set))"
   ]
  },
  {
   "cell_type": "code",
   "execution_count": 24,
   "id": "4d57fde6",
   "metadata": {},
   "outputs": [
    {
     "data": {
      "text/html": [
       "<div>\n",
       "<style scoped>\n",
       "    .dataframe tbody tr th:only-of-type {\n",
       "        vertical-align: middle;\n",
       "    }\n",
       "\n",
       "    .dataframe tbody tr th {\n",
       "        vertical-align: top;\n",
       "    }\n",
       "\n",
       "    .dataframe thead th {\n",
       "        text-align: right;\n",
       "    }\n",
       "</style>\n",
       "<table border=\"1\" class=\"dataframe\">\n",
       "  <thead>\n",
       "    <tr style=\"text-align: right;\">\n",
       "      <th></th>\n",
       "      <th>Approach</th>\n",
       "      <th>Train Size</th>\n",
       "      <th>Traing split 50-50</th>\n",
       "      <th>Score</th>\n",
       "    </tr>\n",
       "  </thead>\n",
       "  <tbody>\n",
       "    <tr>\n",
       "      <th>0</th>\n",
       "      <td>Last Letter Only</td>\n",
       "      <td>500</td>\n",
       "      <td>False</td>\n",
       "      <td>0.762</td>\n",
       "    </tr>\n",
       "    <tr>\n",
       "      <th>1</th>\n",
       "      <td>First and Last Letter</td>\n",
       "      <td>500</td>\n",
       "      <td>False</td>\n",
       "      <td>0.777</td>\n",
       "    </tr>\n",
       "    <tr>\n",
       "      <th>2</th>\n",
       "      <td>First and Last Letter</td>\n",
       "      <td>500</td>\n",
       "      <td>True</td>\n",
       "      <td>0.764</td>\n",
       "    </tr>\n",
       "  </tbody>\n",
       "</table>\n",
       "</div>"
      ],
      "text/plain": [
       "                Approach  Train Size  Traing split 50-50  Score\n",
       "0       Last Letter Only         500               False  0.762\n",
       "1  First and Last Letter         500               False  0.777\n",
       "2  First and Last Letter         500                True  0.764"
      ]
     },
     "execution_count": 24,
     "metadata": {},
     "output_type": "execute_result"
    }
   ],
   "source": [
    "df1.loc[len(df1.index)] = ['First and Last Letter', 500, True,nltk.classify.accuracy(classifier, test_set)]\n",
    "df1"
   ]
  },
  {
   "cell_type": "markdown",
   "id": "ea5bddea",
   "metadata": {},
   "source": [
    "#### Making the training set 50-50 by sex did not improve results.\n",
    "------------"
   ]
  },
  {
   "cell_type": "markdown",
   "id": "a0a2e462",
   "metadata": {},
   "source": [
    "### Hypothesis 2: \n",
    "#### Increase the size of the training data to 2000"
   ]
  },
  {
   "cell_type": "code",
   "execution_count": 25,
   "id": "a3eb9ec8",
   "metadata": {},
   "outputs": [
    {
     "name": "stdout",
     "output_type": "stream",
     "text": [
      "1000 males 1000 females, and 5944\n",
      "= 7944\n",
      "expected length, success.\n"
     ]
    }
   ],
   "source": [
    "firstTwoFiftyMales=[]\n",
    "secondTwoFiftyFemales =[]\n",
    "labeled_names2 = labeled_names.copy() #passing by value, not reference\n",
    "trainingSize = 2000\n",
    "\n",
    "femaleSelectedNotification = False\n",
    "\n",
    "verboseLooping = False\n",
    "\n",
    "malesNotYetSelected = True\n",
    "femalesNotYetSelected = True\n",
    "\n",
    "loopcounter = 0\n",
    "\n",
    "if(trainingSize%2 !=0):\n",
    "    print(\"Invalid training size.  Must be an even integer.  You will get invalid results...\")\n",
    "\n",
    "while(malesNotYetSelected | femalesNotYetSelected):\n",
    "    if(malesNotYetSelected):\n",
    "        rando = random.choice(range(len(labeled_names2)))\n",
    "        if((labeled_names2[rando][1]==\"male\") & \\\n",
    "          (labeled_names2[rando] not in firstTwoFiftyMales) ):\n",
    "            labeled_nameToBeAdded = labeled_names2.pop(rando) #We remove the random male...\n",
    "            firstTwoFiftyMales.append(labeled_nameToBeAdded) #and put it in the first 250\n",
    "    if(femalesNotYetSelected): #not elif\n",
    "        rando = random.choice(range(len(labeled_names2)))\n",
    "        if((labeled_names2[rando][1]==\"female\") & \\\n",
    "          (labeled_names2[rando] not in secondTwoFiftyFemales) ):\n",
    "            labeled_nameToBeAdded = labeled_names2.pop(rando) #We remove the random female...\n",
    "            secondTwoFiftyFemales.append(labeled_nameToBeAdded) #and put it in the Second 250\n",
    "    loopcounter = loopcounter +1\n",
    "    if((verboseLooping) & (loopcounter %400 == 0)):\n",
    "        print(loopcounter, \"loops so far...\")\n",
    "        if((femalesNotYetSelected == False) & (femaleSelectedNotification == False)):\n",
    "            femaleSelectedNotification = True\n",
    "            print(\"Women already selected though.\")\n",
    "            \n",
    "    if(len(firstTwoFiftyMales)>= trainingSize/2):\n",
    "        malesNotYetSelected = False\n",
    "    if(len(secondTwoFiftyFemales)>=trainingSize/2):\n",
    "        femalesNotYetSelected = False\n",
    "        \n",
    "print(len(firstTwoFiftyMales), \"males\", len(secondTwoFiftyFemales), \"females, and\", len(labeled_names2))\n",
    "print(\"=\", sum((len(firstTwoFiftyMales), len(secondTwoFiftyFemales), len(labeled_names2))))\n",
    "if(sum((len(firstTwoFiftyMales), len(secondTwoFiftyFemales), len(labeled_names2))) ==\\\n",
    "  len(labeled_names)):\n",
    "    print(\"expected length, success.\")\n",
    "else: #you shouldn't see this...\n",
    "    print(\"\"\"Something's wrong here.  The three parts of the list \n",
    "          (the first cohort of males, the second cohort of females, and the rest)\n",
    "          are the wrong total length.\"\"\")"
   ]
  },
  {
   "cell_type": "code",
   "execution_count": 26,
   "id": "02eaee97",
   "metadata": {},
   "outputs": [
    {
     "name": "stdout",
     "output_type": "stream",
     "text": [
      "0.767\n"
     ]
    }
   ],
   "source": [
    "featuresets = [(gender_features2(n), gender) for (n, gender) in newlyOrderedLabeled_names]\n",
    "train_set, test_set = featuresets[trainingSize:],\\\n",
    "featuresets[:trainingSize] #trainingSize set to 2000 earlier\n",
    "classifier = nltk.NaiveBayesClassifier.train(train_set)\n",
    "print(nltk.classify.accuracy(classifier, test_set))"
   ]
  },
  {
   "cell_type": "code",
   "execution_count": 27,
   "id": "4dead23a",
   "metadata": {},
   "outputs": [
    {
     "data": {
      "text/html": [
       "<div>\n",
       "<style scoped>\n",
       "    .dataframe tbody tr th:only-of-type {\n",
       "        vertical-align: middle;\n",
       "    }\n",
       "\n",
       "    .dataframe tbody tr th {\n",
       "        vertical-align: top;\n",
       "    }\n",
       "\n",
       "    .dataframe thead th {\n",
       "        text-align: right;\n",
       "    }\n",
       "</style>\n",
       "<table border=\"1\" class=\"dataframe\">\n",
       "  <thead>\n",
       "    <tr style=\"text-align: right;\">\n",
       "      <th></th>\n",
       "      <th>Approach</th>\n",
       "      <th>Train Size</th>\n",
       "      <th>Traing split 50-50</th>\n",
       "      <th>Score</th>\n",
       "    </tr>\n",
       "  </thead>\n",
       "  <tbody>\n",
       "    <tr>\n",
       "      <th>0</th>\n",
       "      <td>Last Letter Only</td>\n",
       "      <td>500</td>\n",
       "      <td>False</td>\n",
       "      <td>0.762</td>\n",
       "    </tr>\n",
       "    <tr>\n",
       "      <th>1</th>\n",
       "      <td>First and Last Letter</td>\n",
       "      <td>500</td>\n",
       "      <td>False</td>\n",
       "      <td>0.777</td>\n",
       "    </tr>\n",
       "    <tr>\n",
       "      <th>2</th>\n",
       "      <td>First and Last Letter</td>\n",
       "      <td>500</td>\n",
       "      <td>True</td>\n",
       "      <td>0.764</td>\n",
       "    </tr>\n",
       "    <tr>\n",
       "      <th>3</th>\n",
       "      <td>First and Last Letter</td>\n",
       "      <td>2000</td>\n",
       "      <td>True</td>\n",
       "      <td>0.767</td>\n",
       "    </tr>\n",
       "  </tbody>\n",
       "</table>\n",
       "</div>"
      ],
      "text/plain": [
       "                Approach  Train Size  Traing split 50-50  Score\n",
       "0       Last Letter Only         500               False  0.762\n",
       "1  First and Last Letter         500               False  0.777\n",
       "2  First and Last Letter         500                True  0.764\n",
       "3  First and Last Letter        2000                True  0.767"
      ]
     },
     "execution_count": 27,
     "metadata": {},
     "output_type": "execute_result"
    }
   ],
   "source": [
    "df1.loc[len(df1.index)] = ['First and Last Letter', 2000, True,nltk.classify.accuracy(classifier, test_set)]\n",
    "df1"
   ]
  },
  {
   "cell_type": "markdown",
   "id": "ae9820d6",
   "metadata": {},
   "source": [
    "#### Increasing our training data size to 2000 (conisiting of 1000 men and 1000 women) didn't improve our results much at all.\n",
    "-------"
   ]
  },
  {
   "cell_type": "markdown",
   "id": "223559f1",
   "metadata": {},
   "source": [
    "### Hyptohesis 3: \n",
    "#### Two subsequent letters.\n",
    "\n",
    "For example, Candice's feature would look like this:\n",
    "\n",
    "Candice\n",
    "\n",
    "has(an) True\n",
    "\n",
    "has(ca) True\n",
    "\n",
    "has(ce) True\n",
    "\n",
    "has(di) True\n",
    "\n",
    "has(ic) True\n",
    "\n",
    "has(nd) True"
   ]
  },
  {
   "cell_type": "code",
   "execution_count": 28,
   "id": "9e5a5edb",
   "metadata": {},
   "outputs": [],
   "source": [
    "def gender_features_EachTwoLetters(name):\n",
    "    alphabet = 'abcdefghijklmnopqrstuvwxyz'\n",
    "    features = {}\n",
    "    for letter1 in alphabet:\n",
    "        for letter2 in alphabet:\n",
    "            tempTwoLetters = letter1 + letter2\n",
    "            features[\"has({})\".format(tempTwoLetters)] = (tempTwoLetters in name.lower())\n",
    "    return features\n",
    "            "
   ]
  },
  {
   "cell_type": "code",
   "execution_count": 29,
   "id": "3a3a18b1",
   "metadata": {},
   "outputs": [],
   "source": [
    "featuresets = [(gender_features_EachTwoLetters(n), gender) for (n, gender) in labeled_names]"
   ]
  },
  {
   "cell_type": "code",
   "execution_count": 30,
   "id": "97631f3a",
   "metadata": {},
   "outputs": [
    {
     "name": "stdout",
     "output_type": "stream",
     "text": [
      "('Kellie', 'female')\n",
      "has(el) True\n",
      "has(ie) True\n",
      "has(ke) True\n",
      "has(li) True\n",
      "has(ll) True\n"
     ]
    }
   ],
   "source": [
    "num = 3\n",
    "print(labeled_names[num])\n",
    "for i in featuresets[num][0]:\n",
    "    if(featuresets[num][0][i]==True):\n",
    "        print(i, featuresets[num][0][i])"
   ]
  },
  {
   "cell_type": "code",
   "execution_count": 31,
   "id": "62e46035",
   "metadata": {},
   "outputs": [
    {
     "data": {
      "text/plain": [
       "[('Worthy', 'male'),\n",
       " ('Candice', 'female'),\n",
       " ('Janith', 'female'),\n",
       " ('Kellie', 'female'),\n",
       " ('Rozamond', 'female')]"
      ]
     },
     "execution_count": 31,
     "metadata": {},
     "output_type": "execute_result"
    }
   ],
   "source": [
    "labeled_names[:5]"
   ]
  },
  {
   "cell_type": "code",
   "execution_count": 32,
   "id": "6d429181",
   "metadata": {},
   "outputs": [
    {
     "name": "stdout",
     "output_type": "stream",
     "text": [
      "0.7315\n"
     ]
    }
   ],
   "source": [
    "featuresets = [(gender_features_EachTwoLetters(n), gender) for (n, gender) in newlyOrderedLabeled_names]\n",
    "train_set, test_set = featuresets[trainingSize:],\\\n",
    "featuresets[:trainingSize] #trainingSize set to 2000 earlier\n",
    "classifier = nltk.NaiveBayesClassifier.train(train_set)\n",
    "print(nltk.classify.accuracy(classifier, test_set))"
   ]
  },
  {
   "cell_type": "code",
   "execution_count": 33,
   "id": "54256030",
   "metadata": {},
   "outputs": [
    {
     "data": {
      "text/html": [
       "<div>\n",
       "<style scoped>\n",
       "    .dataframe tbody tr th:only-of-type {\n",
       "        vertical-align: middle;\n",
       "    }\n",
       "\n",
       "    .dataframe tbody tr th {\n",
       "        vertical-align: top;\n",
       "    }\n",
       "\n",
       "    .dataframe thead th {\n",
       "        text-align: right;\n",
       "    }\n",
       "</style>\n",
       "<table border=\"1\" class=\"dataframe\">\n",
       "  <thead>\n",
       "    <tr style=\"text-align: right;\">\n",
       "      <th></th>\n",
       "      <th>Approach</th>\n",
       "      <th>Train Size</th>\n",
       "      <th>Traing split 50-50</th>\n",
       "      <th>Score</th>\n",
       "    </tr>\n",
       "  </thead>\n",
       "  <tbody>\n",
       "    <tr>\n",
       "      <th>0</th>\n",
       "      <td>Last Letter Only</td>\n",
       "      <td>500</td>\n",
       "      <td>False</td>\n",
       "      <td>0.7620</td>\n",
       "    </tr>\n",
       "    <tr>\n",
       "      <th>1</th>\n",
       "      <td>First and Last Letter</td>\n",
       "      <td>500</td>\n",
       "      <td>False</td>\n",
       "      <td>0.7770</td>\n",
       "    </tr>\n",
       "    <tr>\n",
       "      <th>2</th>\n",
       "      <td>First and Last Letter</td>\n",
       "      <td>500</td>\n",
       "      <td>True</td>\n",
       "      <td>0.7640</td>\n",
       "    </tr>\n",
       "    <tr>\n",
       "      <th>3</th>\n",
       "      <td>First and Last Letter</td>\n",
       "      <td>2000</td>\n",
       "      <td>True</td>\n",
       "      <td>0.7670</td>\n",
       "    </tr>\n",
       "    <tr>\n",
       "      <th>4</th>\n",
       "      <td>Sets of two adjacent letters</td>\n",
       "      <td>2000</td>\n",
       "      <td>True</td>\n",
       "      <td>0.7315</td>\n",
       "    </tr>\n",
       "  </tbody>\n",
       "</table>\n",
       "</div>"
      ],
      "text/plain": [
       "                       Approach  Train Size  Traing split 50-50   Score\n",
       "0              Last Letter Only         500               False  0.7620\n",
       "1         First and Last Letter         500               False  0.7770\n",
       "2         First and Last Letter         500                True  0.7640\n",
       "3         First and Last Letter        2000                True  0.7670\n",
       "4  Sets of two adjacent letters        2000                True  0.7315"
      ]
     },
     "execution_count": 33,
     "metadata": {},
     "output_type": "execute_result"
    }
   ],
   "source": [
    "df1.loc[len(df1.index)] = ['Sets of two adjacent letters', 2000 , True,nltk.classify.accuracy(classifier, test_set)]\n",
    "df1"
   ]
  },
  {
   "cell_type": "markdown",
   "id": "3c922596",
   "metadata": {},
   "source": [
    "##### The approach of just trying two adjacent letters alone didn't work."
   ]
  },
  {
   "cell_type": "markdown",
   "id": "efa24705",
   "metadata": {},
   "source": [
    "#### Maybe we'll try the whole kitchen sink next\n",
    "-----"
   ]
  },
  {
   "cell_type": "markdown",
   "id": "9310054b",
   "metadata": {},
   "source": [
    "## Hyptohesis 4:"
   ]
  },
  {
   "cell_type": "markdown",
   "id": "33272814",
   "metadata": {},
   "source": [
    "#### The whole kitchen sink.  Combine all above approaches"
   ]
  },
  {
   "cell_type": "code",
   "execution_count": null,
   "id": "bf520eb2",
   "metadata": {},
   "outputs": [],
   "source": []
  }
 ],
 "metadata": {
  "kernelspec": {
   "display_name": "Python 3 (ipykernel)",
   "language": "python",
   "name": "python3"
  },
  "language_info": {
   "codemirror_mode": {
    "name": "ipython",
    "version": 3
   },
   "file_extension": ".py",
   "mimetype": "text/x-python",
   "name": "python",
   "nbconvert_exporter": "python",
   "pygments_lexer": "ipython3",
   "version": "3.8.13"
  }
 },
 "nbformat": 4,
 "nbformat_minor": 5
}
