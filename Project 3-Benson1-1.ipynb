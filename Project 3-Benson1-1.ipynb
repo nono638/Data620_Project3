{
 "cells": [
  {
   "cell_type": "markdown",
   "id": "8dc7dfc5",
   "metadata": {},
   "source": [
    "# Project 3\n",
    "Benson Toi, Noah Collin, Ahmed Elsaeyed"
   ]
  },
  {
   "cell_type": "markdown",
   "id": "0ad2e080",
   "metadata": {},
   "source": [
    "### The following code was copied, given:\n",
    "\n",
    "reference: https://www.geeksforgeeks.org/python-gender-identification-by-name-using-nltk/\n",
    "   \n",
    "We do not take credit for this"
   ]
  },
  {
   "cell_type": "code",
   "execution_count": 3,
   "id": "d239fd3e",
   "metadata": {},
   "outputs": [
    {
     "name": "stdout",
     "output_type": "stream",
     "text": [
      "nltk version: 3.7\n"
     ]
    }
   ],
   "source": [
    "# importing libraries\n",
    "import random\n",
    "\n",
    "import nltk\n",
    "\n",
    "print(\"nltk version: {}\".format(nltk.__version__))"
   ]
  },
  {
   "cell_type": "code",
   "execution_count": 4,
   "id": "8949ae6a",
   "metadata": {},
   "outputs": [],
   "source": [
    "#nltk.download('names')\n",
    "from nltk.corpus import names"
   ]
  },
  {
   "cell_type": "code",
   "execution_count": 101,
   "id": "034b3344",
   "metadata": {},
   "outputs": [],
   "source": [
    "random.seed(1492)"
   ]
  },
  {
   "cell_type": "code",
   "execution_count": 104,
   "id": "4b0774a0",
   "metadata": {},
   "outputs": [
    {
     "data": {
      "text/plain": [
       "{'last_letter': 'r'}"
      ]
     },
     "execution_count": 104,
     "metadata": {},
     "output_type": "execute_result"
    }
   ],
   "source": [
    "def gender_features(word):\n",
    "  return {'last_letter': word[-1]}\n",
    "gender_features('mahavir')\n",
    "# output : {'last_letter': 'r'}\n"
   ]
  },
  {
   "cell_type": "code",
   "execution_count": 105,
   "id": "e91234da",
   "metadata": {},
   "outputs": [
    {
     "name": "stdout",
     "output_type": "stream",
     "text": [
      "male\n",
      "0.7620902740462118\n"
     ]
    }
   ],
   "source": [
    "def gender_features(word):\n",
    "  return {'last_letter':word[-1]}\n",
    "\n",
    "# preparing a list of examples and corresponding class labels.\n",
    "labeled_names = ([(name, 'male') for name in names.words('male.txt')]+\n",
    "      [(name, 'female') for name in names.words('female.txt')])\n",
    "\n",
    "random.shuffle(labeled_names)\n",
    "\n",
    "# we use the feature extractor to process the names data.\n",
    "featuresets = [(gender_features(n), gender)\n",
    "      for (n, gender)in labeled_names]\n",
    "\n",
    "# Divide the resulting list of feature\n",
    "# sets into a training set and a test set.\n",
    "train_set, test_set = featuresets[500:], featuresets[:500]\n",
    "\n",
    "# The training set is used to\n",
    "# train a new \"naive Bayes\" classifier.\n",
    "classifier = nltk.NaiveBayesClassifier.train(train_set)\n",
    "\n",
    "print(classifier.classify(gender_features('mahavir')))\n",
    "\n",
    "# output should be 'male'\n",
    "print(nltk.classify.accuracy(classifier, train_set))\n",
    "\n",
    "# it shows accuracy of our classifier and\n",
    "# train_set. which must be more than 99 %\n",
    "# classifier.show_most_informative_features(10)"
   ]
  },
  {
   "cell_type": "code",
   "execution_count": 103,
   "id": "e25dc7a6",
   "metadata": {},
   "outputs": [
    {
     "data": {
      "text/plain": [
       "7944"
      ]
     },
     "execution_count": 103,
     "metadata": {},
     "output_type": "execute_result"
    }
   ],
   "source": [
    "len(labeled_names)"
   ]
  },
  {
   "cell_type": "code",
   "execution_count": 7,
   "id": "f451c147",
   "metadata": {},
   "outputs": [
    {
     "name": "stdout",
     "output_type": "stream",
     "text": [
      "Most Informative Features\n",
      "             last_letter = 'a'            female : male   =     34.4 : 1.0\n",
      "             last_letter = 'k'              male : female =     31.3 : 1.0\n",
      "             last_letter = 'v'              male : female =     17.6 : 1.0\n",
      "             last_letter = 'f'              male : female =     16.7 : 1.0\n",
      "             last_letter = 'p'              male : female =     11.2 : 1.0\n"
     ]
    }
   ],
   "source": [
    "classifier.show_most_informative_features(5)\n",
    "# 10 indicates 10 rows\n",
    "\n"
   ]
  },
  {
   "cell_type": "markdown",
   "id": "5dd60345",
   "metadata": {},
   "source": [
    "The cells below were copied.  We do not take credit for this:\n",
    "from https://www.nltk.org/book/ch06.html"
   ]
  },
  {
   "cell_type": "code",
   "execution_count": 8,
   "id": "5e038a06",
   "metadata": {},
   "outputs": [],
   "source": [
    "def gender_features2(name):\n",
    "    features = {}\n",
    "    features[\"first_letter\"] = name[0].lower()\n",
    "    features[\"last_letter\"] = name[-1].lower()\n",
    "    for letter in 'abcdefghijklmnopqrstuvwxyz':\n",
    "        features[\"count({})\".format(letter)] = name.lower().count(letter)\n",
    "        features[\"has({})\".format(letter)] = (letter in name.lower())\n",
    "    return features"
   ]
  },
  {
   "cell_type": "code",
   "execution_count": 142,
   "id": "bbc21a0a",
   "metadata": {
    "scrolled": false
   },
   "outputs": [
    {
     "name": "stdout",
     "output_type": "stream",
     "text": [
      "first_letter :\t j\n",
      "last_letter :\t n\n",
      "count(a) :\t 0\n",
      "has(a) :\t False\n",
      "count(b) :\t 0\n",
      "has(b) :\t False\n",
      "count(c) :\t 0\n",
      "has(c) :\t False\n",
      "count(d) :\t 0\n",
      "has(d) :\t False\n",
      "...\n"
     ]
    }
   ],
   "source": [
    "count = 0\n",
    "for i in gender_features2('John').items():\n",
    "    print(i[0], \":\\t\", i[1])\n",
    "    count +=1\n",
    "    if count>=10:\n",
    "        print(\"...\")\n",
    "        break"
   ]
  },
  {
   "cell_type": "code",
   "execution_count": 134,
   "id": "a52212f4",
   "metadata": {},
   "outputs": [
    {
     "name": "stdout",
     "output_type": "stream",
     "text": [
      "0.774\n"
     ]
    }
   ],
   "source": [
    "featuresets = [(gender_features2(n), gender) for (n, gender) in labeled_names]\n",
    "train_set, test_set = featuresets[500:], featuresets[:500]\n",
    "classifier = nltk.NaiveBayesClassifier.train(train_set)\n",
    "print(nltk.classify.accuracy(classifier, test_set))"
   ]
  },
  {
   "cell_type": "code",
   "execution_count": 11,
   "id": "de27832b",
   "metadata": {},
   "outputs": [],
   "source": [
    "train_names = labeled_names[1500:]\n",
    "devtest_names = labeled_names[500:1500]\n",
    "test_names = labeled_names[:500]"
   ]
  },
  {
   "cell_type": "code",
   "execution_count": 12,
   "id": "d6dbd4ad",
   "metadata": {},
   "outputs": [
    {
     "name": "stdout",
     "output_type": "stream",
     "text": [
      "0.768\n"
     ]
    }
   ],
   "source": [
    "train_set = [(gender_features(n), gender) for (n, gender) in train_names]\n",
    "devtest_set = [(gender_features(n), gender) for (n, gender) in devtest_names]\n",
    "test_set = [(gender_features(n), gender) for (n, gender) in test_names]\n",
    "classifier = nltk.NaiveBayesClassifier.train(train_set)\n",
    "print(nltk.classify.accuracy(classifier, devtest_set))"
   ]
  },
  {
   "cell_type": "code",
   "execution_count": 13,
   "id": "6854f99a",
   "metadata": {},
   "outputs": [
    {
     "name": "stdout",
     "output_type": "stream",
     "text": [
      "This mode made 232 errors.  That's 23.2% of the devTest set.\n"
     ]
    }
   ],
   "source": [
    "errors = []\n",
    "for (name, tag) in devtest_names:\n",
    "    guess = classifier.classify(gender_features(name))\n",
    "    if guess != tag:\n",
    "        errors.append( (tag, guess, name) )\n",
    "print(\"This mode made {} errors.  That's {}% of the devTest set.\".format(\\\n",
    "                                                                         len(errors),\n",
    "                                                                         round((len(errors) / len(devtest_set) ) *100,2)\n",
    "                                                                        )\n",
    "     )\n",
    "                                                                         "
   ]
  },
  {
   "cell_type": "code",
   "execution_count": 14,
   "id": "3f0cc93c",
   "metadata": {},
   "outputs": [],
   "source": [
    "def gender_features(word):\n",
    "    return {'suffix1': word[-1:],\n",
    "    'suffix2': word[-2:]}"
   ]
  },
  {
   "cell_type": "code",
   "execution_count": 15,
   "id": "772d8e23",
   "metadata": {},
   "outputs": [
    {
     "name": "stdout",
     "output_type": "stream",
     "text": [
      "0.771\n"
     ]
    }
   ],
   "source": [
    "train_set = [(gender_features(n), gender) for (n, gender) in train_names]\n",
    "devtest_set = [(gender_features(n), gender) for (n, gender) in devtest_names]\n",
    "classifier = nltk.NaiveBayesClassifier.train(train_set)\n",
    "print(nltk.classify.accuracy(classifier, devtest_set))"
   ]
  },
  {
   "cell_type": "markdown",
   "id": "2715955a",
   "metadata": {},
   "source": [
    "### Our Code"
   ]
  },
  {
   "cell_type": "code",
   "execution_count": 16,
   "id": "b74a12a9",
   "metadata": {},
   "outputs": [
    {
     "name": "stdout",
     "output_type": "stream",
     "text": [
      "There are 2937 males and 4997 females in the dataset.  That's 36.97% male.\n"
     ]
    }
   ],
   "source": [
    "num_males = 0\n",
    "num_females=0\n",
    "for i in labeled_names[10:]:\n",
    "    if(i[1]==\"male\"):\n",
    "        num_males+=1\n",
    "        #print(i[0] +\" is \" + i[1]+\".\")\n",
    "    elif(i[1]==\"female\"):\n",
    "        #print(i[0] +\" is \" + i[1]+\".\")\n",
    "        num_females +=1\n",
    "    else:\n",
    "        print(i[0] +\" isn't properly labeled!\")\n",
    "\n",
    "print(\"There are {} males and {} females in the dataset.  That's {}% male.\".format(\\\n",
    "                                                                                   num_males,\n",
    "                                                                                   num_females,\n",
    "                                                                                   round((num_males / len(labeled_names)*100),2)\n",
    "                                                                                  ))"
   ]
  },
  {
   "cell_type": "markdown",
   "id": "3357391a",
   "metadata": {},
   "source": [
    "One possible approach is to make the training data 50-50 male/female"
   ]
  },
  {
   "cell_type": "code",
   "execution_count": 18,
   "id": "5a374394",
   "metadata": {},
   "outputs": [],
   "source": []
  },
  {
   "cell_type": "code",
   "execution_count": 20,
   "id": "65b4ecaa",
   "metadata": {},
   "outputs": [],
   "source": [
    "test1 = range(1000)"
   ]
  },
  {
   "cell_type": "code",
   "execution_count": 25,
   "id": "7b8f9c56",
   "metadata": {},
   "outputs": [
    {
     "name": "stdout",
     "output_type": "stream",
     "text": [
      "0, 1, 2, 3, 4, 5, 6, 7, 8, 9, "
     ]
    }
   ],
   "source": [
    "for i in test1[:10]:\n",
    "    print(i, end=\", \")"
   ]
  },
  {
   "cell_type": "code",
   "execution_count": 96,
   "id": "a0ce5e36",
   "metadata": {},
   "outputs": [],
   "source": [
    "a = list((random.choices(range(55), k =535)))"
   ]
  },
  {
   "cell_type": "code",
   "execution_count": 97,
   "id": "bbfc9a0b",
   "metadata": {},
   "outputs": [
    {
     "name": "stdout",
     "output_type": "stream",
     "text": [
      "<class 'list'>\n"
     ]
    }
   ],
   "source": [
    "print(type(a))"
   ]
  },
  {
   "cell_type": "code",
   "execution_count": 98,
   "id": "6b1d2681",
   "metadata": {},
   "outputs": [
    {
     "data": {
      "text/plain": [
       "[46,\n",
       " 1,\n",
       " 35,\n",
       " 14,\n",
       " 51,\n",
       " 33,\n",
       " 28,\n",
       " 6,\n",
       " 30,\n",
       " 40,\n",
       " 54,\n",
       " 45,\n",
       " 50,\n",
       " 35,\n",
       " 9,\n",
       " 31,\n",
       " 23,\n",
       " 14,\n",
       " 44,\n",
       " 44,\n",
       " 20,\n",
       " 29,\n",
       " 44,\n",
       " 51,\n",
       " 33,\n",
       " 29,\n",
       " 17,\n",
       " 44,\n",
       " 35,\n",
       " 35,\n",
       " 15,\n",
       " 0,\n",
       " 40,\n",
       " 17,\n",
       " 4,\n",
       " 1,\n",
       " 32,\n",
       " 49,\n",
       " 7,\n",
       " 17,\n",
       " 14,\n",
       " 39,\n",
       " 27,\n",
       " 33,\n",
       " 18,\n",
       " 4,\n",
       " 32,\n",
       " 36,\n",
       " 0,\n",
       " 35,\n",
       " 46,\n",
       " 4,\n",
       " 7,\n",
       " 28,\n",
       " 1,\n",
       " 30,\n",
       " 40,\n",
       " 7,\n",
       " 15,\n",
       " 25,\n",
       " 8,\n",
       " 43,\n",
       " 29,\n",
       " 39,\n",
       " 46,\n",
       " 1,\n",
       " 52,\n",
       " 28,\n",
       " 46,\n",
       " 42,\n",
       " 43,\n",
       " 43,\n",
       " 27,\n",
       " 42,\n",
       " 9,\n",
       " 36,\n",
       " 17,\n",
       " 6,\n",
       " 8,\n",
       " 40,\n",
       " 45,\n",
       " 52,\n",
       " 1,\n",
       " 3,\n",
       " 34,\n",
       " 17,\n",
       " 45,\n",
       " 13,\n",
       " 44,\n",
       " 16,\n",
       " 29,\n",
       " 10,\n",
       " 12,\n",
       " 20,\n",
       " 54,\n",
       " 27,\n",
       " 0,\n",
       " 11,\n",
       " 49,\n",
       " 23,\n",
       " 53,\n",
       " 25,\n",
       " 22,\n",
       " 40,\n",
       " 41,\n",
       " 18,\n",
       " 17,\n",
       " 7,\n",
       " 23,\n",
       " 48,\n",
       " 51,\n",
       " 31,\n",
       " 52,\n",
       " 33,\n",
       " 16,\n",
       " 7,\n",
       " 49,\n",
       " 23,\n",
       " 26,\n",
       " 46,\n",
       " 0,\n",
       " 26,\n",
       " 40,\n",
       " 48,\n",
       " 54,\n",
       " 17,\n",
       " 14,\n",
       " 34,\n",
       " 47,\n",
       " 37,\n",
       " 11,\n",
       " 46,\n",
       " 2,\n",
       " 12,\n",
       " 4,\n",
       " 6,\n",
       " 30,\n",
       " 2,\n",
       " 8,\n",
       " 34,\n",
       " 38,\n",
       " 3,\n",
       " 1,\n",
       " 3,\n",
       " 31,\n",
       " 51,\n",
       " 54,\n",
       " 36,\n",
       " 22,\n",
       " 2,\n",
       " 27,\n",
       " 51,\n",
       " 27,\n",
       " 6,\n",
       " 50,\n",
       " 19,\n",
       " 20,\n",
       " 14,\n",
       " 45,\n",
       " 6,\n",
       " 36,\n",
       " 4,\n",
       " 11,\n",
       " 13,\n",
       " 31,\n",
       " 47,\n",
       " 0,\n",
       " 46,\n",
       " 52,\n",
       " 48,\n",
       " 19,\n",
       " 43,\n",
       " 16,\n",
       " 44,\n",
       " 53,\n",
       " 53,\n",
       " 4,\n",
       " 23,\n",
       " 35,\n",
       " 33,\n",
       " 40,\n",
       " 22,\n",
       " 47,\n",
       " 21,\n",
       " 27,\n",
       " 11,\n",
       " 48,\n",
       " 24,\n",
       " 0,\n",
       " 1,\n",
       " 19,\n",
       " 12,\n",
       " 44,\n",
       " 30,\n",
       " 13,\n",
       " 5,\n",
       " 26,\n",
       " 28,\n",
       " 5,\n",
       " 22,\n",
       " 20,\n",
       " 51,\n",
       " 47,\n",
       " 54,\n",
       " 30,\n",
       " 1,\n",
       " 38,\n",
       " 33,\n",
       " 28,\n",
       " 39,\n",
       " 50,\n",
       " 53,\n",
       " 37,\n",
       " 42,\n",
       " 54,\n",
       " 5,\n",
       " 28,\n",
       " 48,\n",
       " 44,\n",
       " 43,\n",
       " 14,\n",
       " 25,\n",
       " 47,\n",
       " 24,\n",
       " 41,\n",
       " 19,\n",
       " 29,\n",
       " 39,\n",
       " 54,\n",
       " 41,\n",
       " 28,\n",
       " 49,\n",
       " 15,\n",
       " 10,\n",
       " 51,\n",
       " 21,\n",
       " 42,\n",
       " 14,\n",
       " 26,\n",
       " 11,\n",
       " 15,\n",
       " 21,\n",
       " 28,\n",
       " 3,\n",
       " 20,\n",
       " 11,\n",
       " 53,\n",
       " 12,\n",
       " 30,\n",
       " 20,\n",
       " 43,\n",
       " 4,\n",
       " 19,\n",
       " 37,\n",
       " 10,\n",
       " 35,\n",
       " 37,\n",
       " 23,\n",
       " 54,\n",
       " 19,\n",
       " 38,\n",
       " 24,\n",
       " 39,\n",
       " 24,\n",
       " 34,\n",
       " 37,\n",
       " 39,\n",
       " 28,\n",
       " 23,\n",
       " 37,\n",
       " 17,\n",
       " 34,\n",
       " 17,\n",
       " 0,\n",
       " 25,\n",
       " 28,\n",
       " 10,\n",
       " 11,\n",
       " 16,\n",
       " 20,\n",
       " 54,\n",
       " 5,\n",
       " 36,\n",
       " 3,\n",
       " 13,\n",
       " 37,\n",
       " 14,\n",
       " 23,\n",
       " 17,\n",
       " 54,\n",
       " 31,\n",
       " 4,\n",
       " 13,\n",
       " 45,\n",
       " 27,\n",
       " 37,\n",
       " 38,\n",
       " 13,\n",
       " 34,\n",
       " 23,\n",
       " 29,\n",
       " 51,\n",
       " 45,\n",
       " 42,\n",
       " 0,\n",
       " 51,\n",
       " 11,\n",
       " 53,\n",
       " 39,\n",
       " 26,\n",
       " 7,\n",
       " 21,\n",
       " 42,\n",
       " 28,\n",
       " 13,\n",
       " 14,\n",
       " 14,\n",
       " 9,\n",
       " 28,\n",
       " 24,\n",
       " 50,\n",
       " 51,\n",
       " 7,\n",
       " 24,\n",
       " 35,\n",
       " 46,\n",
       " 11,\n",
       " 35,\n",
       " 51,\n",
       " 18,\n",
       " 19,\n",
       " 23,\n",
       " 2,\n",
       " 12,\n",
       " 6,\n",
       " 39,\n",
       " 43,\n",
       " 26,\n",
       " 5,\n",
       " 40,\n",
       " 41,\n",
       " 47,\n",
       " 2,\n",
       " 23,\n",
       " 46,\n",
       " 47,\n",
       " 11,\n",
       " 32,\n",
       " 47,\n",
       " 18,\n",
       " 30,\n",
       " 35,\n",
       " 4,\n",
       " 28,\n",
       " 29,\n",
       " 9,\n",
       " 16,\n",
       " 25,\n",
       " 11,\n",
       " 36,\n",
       " 32,\n",
       " 38,\n",
       " 7,\n",
       " 26,\n",
       " 17,\n",
       " 41,\n",
       " 18,\n",
       " 54,\n",
       " 53,\n",
       " 49,\n",
       " 47,\n",
       " 19,\n",
       " 34,\n",
       " 40,\n",
       " 8,\n",
       " 20,\n",
       " 12,\n",
       " 20,\n",
       " 24,\n",
       " 3,\n",
       " 3,\n",
       " 26,\n",
       " 24,\n",
       " 16,\n",
       " 24,\n",
       " 9,\n",
       " 34,\n",
       " 41,\n",
       " 28,\n",
       " 20,\n",
       " 44,\n",
       " 28,\n",
       " 52,\n",
       " 4,\n",
       " 5,\n",
       " 41,\n",
       " 27,\n",
       " 25,\n",
       " 46,\n",
       " 41,\n",
       " 20,\n",
       " 12,\n",
       " 46,\n",
       " 43,\n",
       " 24,\n",
       " 32,\n",
       " 42,\n",
       " 26,\n",
       " 53,\n",
       " 43,\n",
       " 50,\n",
       " 16,\n",
       " 47,\n",
       " 36,\n",
       " 9,\n",
       " 11,\n",
       " 24,\n",
       " 33,\n",
       " 49,\n",
       " 15,\n",
       " 7,\n",
       " 9,\n",
       " 54,\n",
       " 13,\n",
       " 40,\n",
       " 44,\n",
       " 38,\n",
       " 50,\n",
       " 51,\n",
       " 10,\n",
       " 15,\n",
       " 4,\n",
       " 10,\n",
       " 45,\n",
       " 1,\n",
       " 54,\n",
       " 52,\n",
       " 52,\n",
       " 31,\n",
       " 47,\n",
       " 10,\n",
       " 14,\n",
       " 46,\n",
       " 25,\n",
       " 46,\n",
       " 18,\n",
       " 1,\n",
       " 31,\n",
       " 3,\n",
       " 40,\n",
       " 47,\n",
       " 32,\n",
       " 39,\n",
       " 25,\n",
       " 2,\n",
       " 14,\n",
       " 5,\n",
       " 51,\n",
       " 51,\n",
       " 13,\n",
       " 50,\n",
       " 16,\n",
       " 12,\n",
       " 14,\n",
       " 20,\n",
       " 19,\n",
       " 5,\n",
       " 48,\n",
       " 12,\n",
       " 51,\n",
       " 47,\n",
       " 51,\n",
       " 23,\n",
       " 24,\n",
       " 7,\n",
       " 15,\n",
       " 11,\n",
       " 28,\n",
       " 36,\n",
       " 21,\n",
       " 42,\n",
       " 30,\n",
       " 46,\n",
       " 23,\n",
       " 31,\n",
       " 42,\n",
       " 34,\n",
       " 16,\n",
       " 54,\n",
       " 27,\n",
       " 18,\n",
       " 6,\n",
       " 42,\n",
       " 15,\n",
       " 29,\n",
       " 0,\n",
       " 4,\n",
       " 52,\n",
       " 23,\n",
       " 10,\n",
       " 8,\n",
       " 21,\n",
       " 54,\n",
       " 33,\n",
       " 3,\n",
       " 36,\n",
       " 23,\n",
       " 10,\n",
       " 18,\n",
       " 54,\n",
       " 15,\n",
       " 11,\n",
       " 5,\n",
       " 0,\n",
       " 51,\n",
       " 14,\n",
       " 49,\n",
       " 7,\n",
       " 22,\n",
       " 28,\n",
       " 32,\n",
       " 48,\n",
       " 15,\n",
       " 32,\n",
       " 40,\n",
       " 23,\n",
       " 13,\n",
       " 49,\n",
       " 39,\n",
       " 29,\n",
       " 19,\n",
       " 51,\n",
       " 51,\n",
       " 2,\n",
       " 34]"
      ]
     },
     "execution_count": 98,
     "metadata": {},
     "output_type": "execute_result"
    }
   ],
   "source": [
    "a"
   ]
  },
  {
   "cell_type": "code",
   "execution_count": 99,
   "id": "f12640ce",
   "metadata": {},
   "outputs": [],
   "source": [
    "a.sort()"
   ]
  },
  {
   "cell_type": "code",
   "execution_count": 100,
   "id": "e400a953",
   "metadata": {},
   "outputs": [
    {
     "name": "stdout",
     "output_type": "stream",
     "text": [
      "[0, 0, 0, 0, 0, 0, 0, 0, 0, 0, 1, 1, 1, 1, 1, 1, 1, 1, 1, 1, 2, 2, 2, 2, 2, 2, 2, 3, 3, 3, 3, 3, 3, 3, 3, 3, 4, 4, 4, 4, 4, 4, 4, 4, 4, 4, 4, 4, 5, 5, 5, 5, 5, 5, 5, 5, 5, 6, 6, 6, 6, 6, 6, 6, 7, 7, 7, 7, 7, 7, 7, 7, 7, 7, 7, 8, 8, 8, 8, 8, 9, 9, 9, 9, 9, 9, 9, 10, 10, 10, 10, 10, 10, 10, 10, 10, 11, 11, 11, 11, 11, 11, 11, 11, 11, 11, 11, 11, 11, 11, 12, 12, 12, 12, 12, 12, 12, 12, 12, 13, 13, 13, 13, 13, 13, 13, 13, 13, 13, 14, 14, 14, 14, 14, 14, 14, 14, 14, 14, 14, 14, 14, 14, 15, 15, 15, 15, 15, 15, 15, 15, 15, 15, 16, 16, 16, 16, 16, 16, 16, 16, 16, 17, 17, 17, 17, 17, 17, 17, 17, 17, 17, 17, 18, 18, 18, 18, 18, 18, 18, 18, 19, 19, 19, 19, 19, 19, 19, 19, 19, 19, 20, 20, 20, 20, 20, 20, 20, 20, 20, 20, 20, 20, 21, 21, 21, 21, 21, 21, 22, 22, 22, 22, 22, 23, 23, 23, 23, 23, 23, 23, 23, 23, 23, 23, 23, 23, 23, 23, 23, 24, 24, 24, 24, 24, 24, 24, 24, 24, 24, 24, 24, 25, 25, 25, 25, 25, 25, 25, 25, 26, 26, 26, 26, 26, 26, 26, 26, 26, 27, 27, 27, 27, 27, 27, 27, 27, 27, 28, 28, 28, 28, 28, 28, 28, 28, 28, 28, 28, 28, 28, 28, 28, 28, 28, 29, 29, 29, 29, 29, 29, 29, 29, 29, 30, 30, 30, 30, 30, 30, 30, 30, 31, 31, 31, 31, 31, 31, 31, 31, 32, 32, 32, 32, 32, 32, 32, 32, 33, 33, 33, 33, 33, 33, 33, 33, 34, 34, 34, 34, 34, 34, 34, 34, 34, 34, 35, 35, 35, 35, 35, 35, 35, 35, 35, 35, 36, 36, 36, 36, 36, 36, 36, 36, 36, 37, 37, 37, 37, 37, 37, 37, 37, 38, 38, 38, 38, 38, 38, 39, 39, 39, 39, 39, 39, 39, 39, 39, 39, 40, 40, 40, 40, 40, 40, 40, 40, 40, 40, 40, 40, 41, 41, 41, 41, 41, 41, 41, 41, 42, 42, 42, 42, 42, 42, 42, 42, 42, 42, 43, 43, 43, 43, 43, 43, 43, 43, 43, 44, 44, 44, 44, 44, 44, 44, 44, 44, 44, 45, 45, 45, 45, 45, 45, 45, 46, 46, 46, 46, 46, 46, 46, 46, 46, 46, 46, 46, 46, 46, 47, 47, 47, 47, 47, 47, 47, 47, 47, 47, 47, 47, 47, 48, 48, 48, 48, 48, 48, 48, 49, 49, 49, 49, 49, 49, 49, 49, 50, 50, 50, 50, 50, 50, 50, 51, 51, 51, 51, 51, 51, 51, 51, 51, 51, 51, 51, 51, 51, 51, 51, 51, 51, 51, 52, 52, 52, 52, 52, 52, 52, 52, 53, 53, 53, 53, 53, 53, 53, 53, 54, 54, 54, 54, 54, 54, 54, 54, 54, 54, 54, 54, 54, 54, 54, 54]\n"
     ]
    }
   ],
   "source": [
    "print(a)"
   ]
  },
  {
   "cell_type": "code",
   "execution_count": 151,
   "id": "2989418f",
   "metadata": {},
   "outputs": [
    {
     "name": "stdout",
     "output_type": "stream",
     "text": [
      "Again, there are 2943 males and 5001 females, so 37.05% of the dataset are male.\n"
     ]
    }
   ],
   "source": [
    "males = [guy for guy in labeled_names if guy[1]==\"male\"]\n",
    "females = [girl for girl in labeled_names if girl[1]==\"female\"]\n",
    "print(\"Again, there are {} males and {} females, so {}% of the dataset are male.\".format(\\\n",
    "                                                                                      len(males),\n",
    "                                                                                      len(females),\n",
    "                                                                                      round( ( (len(males)/\\\n",
    "                                                                                                len(labeled_names))*100)\\\n",
    "                                                                                            ,2)\n",
    "                                                                                      ) )"
   ]
  },
  {
   "cell_type": "markdown",
   "id": "57d16619",
   "metadata": {},
   "source": [
    "Let's try making the training set 50/50 first."
   ]
  },
  {
   "cell_type": "code",
   "execution_count": null,
   "id": "f554ec9b",
   "metadata": {},
   "outputs": [],
   "source": []
  }
 ],
 "metadata": {
  "kernelspec": {
   "display_name": "Python 3 (ipykernel)",
   "language": "python",
   "name": "python3"
  },
  "language_info": {
   "codemirror_mode": {
    "name": "ipython",
    "version": 3
   },
   "file_extension": ".py",
   "mimetype": "text/x-python",
   "name": "python",
   "nbconvert_exporter": "python",
   "pygments_lexer": "ipython3",
   "version": "3.8.13"
  }
 },
 "nbformat": 4,
 "nbformat_minor": 5
}
