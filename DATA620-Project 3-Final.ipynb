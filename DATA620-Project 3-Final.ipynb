{
 "cells": [
  {
   "cell_type": "markdown",
   "id": "396fc345",
   "metadata": {},
   "source": [
    "# Project 3\n",
    "Benson Toi, Noah Collin, Ahmed Elsaeyed"
   ]
  },
  {
   "cell_type": "markdown",
   "id": "0546674f",
   "metadata": {},
   "source": [
    "### The first code section was copied from:\n",
    "https://www.geeksforgeeks.org/python-gender-identification-by-name-using-nltk/\n",
    "   \n",
    "We do not take credit for this section"
   ]
  },
  {
   "cell_type": "markdown",
   "id": "9d9e2525",
   "metadata": {},
   "source": [
    "### Prompt:\n",
    "Using any of the three classifiers described in chapter 6 of Natural \n",
    "Language Processing with Python, and any features you can think of,\n",
    " build the best name gender classifier you can. Begin by splitting the Names \n",
    "Corpus into three subsets: 500 words for the test set, 500 words for the dev-test set, \n",
    "and the remaining 6900 words for the training set. Then, starting with the example name \n",
    "gender classifier, make incremental improvements. Use the dev-test set to check your progress. Once you are satisfied \n",
    "with your classifier, check its final performance on the test set. How does the performance on the test set compare to the\n",
    " performance on the dev-test set? Is this what you'd expect?\n",
    "\n",
    "\n",
    "Project is due 7/5.\n",
    "\n",
    "Source: Natural Language Processing with Python, exercise 6.10.2."
   ]
  },
  {
   "cell_type": "code",
   "execution_count": 1,
   "id": "1d7a85dd",
   "metadata": {},
   "outputs": [
    {
     "name": "stdout",
     "output_type": "stream",
     "text": [
      "nltk version: 3.7\n",
      "pandas version: 1.4.2\n"
     ]
    }
   ],
   "source": [
    "# importing libraries\n",
    "import random\n",
    "import nltk\n",
    "import pandas as pd\n",
    "import re\n",
    "print(\"nltk version: {}\".format(nltk.__version__))\n",
    "print(\"pandas version: {}\".format(pd.__version__))"
   ]
  },
  {
   "cell_type": "code",
   "execution_count": 2,
   "id": "24bbac0a",
   "metadata": {},
   "outputs": [],
   "source": [
    "#nltk.download('names')\n",
    "from nltk.corpus import names"
   ]
  },
  {
   "cell_type": "code",
   "execution_count": 3,
   "id": "1eeffe87",
   "metadata": {},
   "outputs": [],
   "source": [
    "random.seed(1492) #To ensure consistency across notebooks"
   ]
  },
  {
   "cell_type": "code",
   "execution_count": 4,
   "id": "472dc796",
   "metadata": {},
   "outputs": [
    {
     "data": {
      "text/plain": [
       "{'last_letter': 'r'}"
      ]
     },
     "execution_count": 4,
     "metadata": {},
     "output_type": "execute_result"
    }
   ],
   "source": [
    "def gender_features(word):\n",
    "  return {'last_letter': word[-1]} #returns a dictionary\n",
    "gender_features('mahavir')\n",
    "# output : {'last_letter': 'r'}\n"
   ]
  },
  {
   "cell_type": "code",
   "execution_count": 5,
   "id": "3082e6a0",
   "metadata": {},
   "outputs": [
    {
     "name": "stdout",
     "output_type": "stream",
     "text": [
      "Mahavir classified as: male\n",
      "0.7628962923159591\n",
      "Most Informative Features\n",
      "             last_letter = 'a'            female : male   =     33.3 : 1.0\n",
      "             last_letter = 'k'              male : female =     32.2 : 1.0\n",
      "             last_letter = 'f'              male : female =     17.3 : 1.0\n",
      "             last_letter = 'p'              male : female =     11.2 : 1.0\n",
      "             last_letter = 'v'              male : female =     10.5 : 1.0\n"
     ]
    }
   ],
   "source": [
    "# preparing a list of examples and corresponding class labels.\n",
    "labeled_names = ([(name, 'male') for name in names.words('male.txt')]+\n",
    "      [(name, 'female') for name in names.words('female.txt')])\n",
    "\n",
    "random.shuffle(labeled_names)\n",
    "\n",
    "# we use the feature extractor to process the names data.\n",
    "featuresets = [(gender_features(n), gender)\n",
    "      for (n, gender)in labeled_names]\n",
    "\n",
    "# Divide the resulting list of feature\n",
    "# sets into a training set and a test set.\n",
    "train_set, test_set = featuresets[500:], featuresets[:500]\n",
    "\n",
    "# The training set is used to\n",
    "# train a new \"naive Bayes\" classifier.\n",
    "classifier = nltk.NaiveBayesClassifier.train(train_set)\n",
    "\n",
    "print(\"Mahavir classified as:\",classifier.classify(gender_features('mahavir')))\n",
    "\n",
    "# output should be 'male'\n",
    "print(nltk.classify.accuracy(classifier, train_set))\n",
    "\n",
    "# it shows accuracy of our classifier and\n",
    "# train_set. which must be more than 99 %\n",
    "classifier.show_most_informative_features(5)"
   ]
  },
  {
   "cell_type": "code",
   "execution_count": 6,
   "id": "0141198d",
   "metadata": {},
   "outputs": [
    {
     "data": {
      "text/plain": [
       "7944"
      ]
     },
     "execution_count": 6,
     "metadata": {},
     "output_type": "execute_result"
    }
   ],
   "source": [
    "len(labeled_names)"
   ]
  },
  {
   "cell_type": "code",
   "execution_count": 7,
   "id": "7ec71ba7",
   "metadata": {},
   "outputs": [
    {
     "data": {
      "text/plain": [
       "[({'last_letter': 'y'}, 'male'),\n",
       " ({'last_letter': 'e'}, 'female'),\n",
       " ({'last_letter': 'h'}, 'female'),\n",
       " ({'last_letter': 'e'}, 'female'),\n",
       " ({'last_letter': 'd'}, 'female')]"
      ]
     },
     "execution_count": 7,
     "metadata": {},
     "output_type": "execute_result"
    }
   ],
   "source": [
    "featuresets[:5]"
   ]
  },
  {
   "cell_type": "code",
   "execution_count": 8,
   "id": "c105ea93",
   "metadata": {},
   "outputs": [
    {
     "name": "stdout",
     "output_type": "stream",
     "text": [
      "Most Informative Features\n",
      "             last_letter = 'a'            female : male   =     33.3 : 1.0\n",
      "             last_letter = 'k'              male : female =     32.2 : 1.0\n",
      "             last_letter = 'f'              male : female =     17.3 : 1.0\n",
      "             last_letter = 'p'              male : female =     11.2 : 1.0\n",
      "             last_letter = 'v'              male : female =     10.5 : 1.0\n"
     ]
    }
   ],
   "source": [
    "classifier.show_most_informative_features(5)\n",
    "# 10 indicates 10 rows\n",
    "\n"
   ]
  },
  {
   "cell_type": "markdown",
   "id": "66d70b86",
   "metadata": {},
   "source": [
    "#### The cells below were copied.  We do not take credit for this:\n",
    "from https://www.nltk.org/book/ch06.html"
   ]
  },
  {
   "cell_type": "code",
   "execution_count": 9,
   "id": "1302bbd5",
   "metadata": {},
   "outputs": [],
   "source": [
    "def gender_features2(name):\n",
    "    features = {}\n",
    "    features[\"first_letter\"] = name[0].lower()\n",
    "    features[\"last_letter\"] = name[-1].lower()\n",
    "    for letter in 'abcdefghijklmnopqrstuvwxyz':\n",
    "        features[\"count({})\".format(letter)] = name.lower().count(letter)\n",
    "        features[\"has({})\".format(letter)] = (letter in name.lower())\n",
    "    return features"
   ]
  },
  {
   "cell_type": "code",
   "execution_count": 10,
   "id": "46eab5a9",
   "metadata": {
    "scrolled": false
   },
   "outputs": [
    {
     "name": "stdout",
     "output_type": "stream",
     "text": [
      "first_letter :\t j\n",
      "last_letter :\t n\n",
      "count(a) :\t 0\n",
      "has(a) :\t False\n",
      "count(b) :\t 0\n",
      "has(b) :\t False\n",
      "count(c) :\t 0\n",
      "has(c) :\t False\n",
      "count(d) :\t 0\n",
      "has(d) :\t False\n",
      "...\n"
     ]
    }
   ],
   "source": [
    "count = 0\n",
    "for i in gender_features2('John').items():\n",
    "    print(i[0], \":\\t\", i[1])\n",
    "    count +=1\n",
    "    if count>=10:\n",
    "        print(\"...\")\n",
    "        break"
   ]
  },
  {
   "cell_type": "code",
   "execution_count": 11,
   "id": "1d49ea7e",
   "metadata": {},
   "outputs": [
    {
     "name": "stdout",
     "output_type": "stream",
     "text": [
      "0.762\n"
     ]
    }
   ],
   "source": [
    "featuresets = [(gender_features2(n), gender) for (n, gender) in labeled_names]\n",
    "train_set, test_set = featuresets[500:], featuresets[:500]\n",
    "classifier = nltk.NaiveBayesClassifier.train(train_set)\n",
    "print(nltk.classify.accuracy(classifier, test_set))"
   ]
  },
  {
   "cell_type": "code",
   "execution_count": 12,
   "id": "6445562d",
   "metadata": {},
   "outputs": [],
   "source": [
    "train_names = labeled_names[500:] \n",
    "devtest_names = labeled_names[500:1000] #per prompt instructions\n",
    "test_names = labeled_names[:1000]"
   ]
  },
  {
   "cell_type": "code",
   "execution_count": 13,
   "id": "ab1b55d9",
   "metadata": {},
   "outputs": [
    {
     "name": "stdout",
     "output_type": "stream",
     "text": [
      "0.744\n"
     ]
    }
   ],
   "source": [
    "train_set = [(gender_features(n), gender) for (n, gender) in train_names]\n",
    "devtest_set = [(gender_features(n), gender) for (n, gender) in devtest_names]\n",
    "test_set = [(gender_features(n), gender) for (n, gender) in test_names]\n",
    "classifier = nltk.NaiveBayesClassifier.train(train_set)\n",
    "print(nltk.classify.accuracy(classifier, devtest_set))"
   ]
  },
  {
   "cell_type": "code",
   "execution_count": 14,
   "id": "6e51328b",
   "metadata": {},
   "outputs": [
    {
     "name": "stdout",
     "output_type": "stream",
     "text": [
      "This mode made 128 errors.  That's 25.6% of the devTest set.\n"
     ]
    }
   ],
   "source": [
    "errors = []\n",
    "for (name, tag) in devtest_names:\n",
    "    guess = classifier.classify(gender_features(name))\n",
    "    if guess != tag:\n",
    "        errors.append( (tag, guess, name) )\n",
    "print(\"This mode made {} errors.  That's {}% of the devTest set.\".format(\\\n",
    "                                                                         len(errors),\n",
    "                                                                         round((len(errors) / len(devtest_set) ) *100,2)\n",
    "                                                                        )\n",
    "     )\n",
    "                                                                         "
   ]
  },
  {
   "cell_type": "code",
   "execution_count": 15,
   "id": "17f39551",
   "metadata": {},
   "outputs": [],
   "source": [
    "def gender_features(word):\n",
    "    return {'suffix1': word[-1:],\n",
    "    'suffix2': word[-2:]}"
   ]
  },
  {
   "cell_type": "code",
   "execution_count": 16,
   "id": "08e68968",
   "metadata": {},
   "outputs": [
    {
     "name": "stdout",
     "output_type": "stream",
     "text": [
      "0.774\n"
     ]
    }
   ],
   "source": [
    "train_set = [(gender_features(n), gender) for (n, gender) in train_names]\n",
    "devtest_set = [(gender_features(n), gender) for (n, gender) in devtest_names]\n",
    "classifier = nltk.NaiveBayesClassifier.train(train_set)\n",
    "print(nltk.classify.accuracy(classifier, devtest_set))"
   ]
  },
  {
   "cell_type": "markdown",
   "id": "0caefe33",
   "metadata": {},
   "source": [
    "## Students' Code"
   ]
  },
  {
   "cell_type": "code",
   "execution_count": 17,
   "id": "ce5a7a39",
   "metadata": {},
   "outputs": [
    {
     "data": {
      "text/html": [
       "<div>\n",
       "<style scoped>\n",
       "    .dataframe tbody tr th:only-of-type {\n",
       "        vertical-align: middle;\n",
       "    }\n",
       "\n",
       "    .dataframe tbody tr th {\n",
       "        vertical-align: top;\n",
       "    }\n",
       "\n",
       "    .dataframe thead th {\n",
       "        text-align: right;\n",
       "    }\n",
       "</style>\n",
       "<table border=\"1\" class=\"dataframe\">\n",
       "  <thead>\n",
       "    <tr style=\"text-align: right;\">\n",
       "      <th></th>\n",
       "      <th>Approach</th>\n",
       "      <th>Model Type</th>\n",
       "      <th>Train Size</th>\n",
       "      <th>Training split 50-50</th>\n",
       "      <th>Test Set Score</th>\n",
       "    </tr>\n",
       "  </thead>\n",
       "  <tbody>\n",
       "    <tr>\n",
       "      <th>0</th>\n",
       "      <td>Last Letter Only (from NLTK book)</td>\n",
       "      <td>Naive Bayes</td>\n",
       "      <td>500</td>\n",
       "      <td>False</td>\n",
       "      <td>0.762</td>\n",
       "    </tr>\n",
       "    <tr>\n",
       "      <th>1</th>\n",
       "      <td>First and Last Letter (from NLTK book)</td>\n",
       "      <td>Naive Bayes</td>\n",
       "      <td>500</td>\n",
       "      <td>False</td>\n",
       "      <td>0.777</td>\n",
       "    </tr>\n",
       "  </tbody>\n",
       "</table>\n",
       "</div>"
      ],
      "text/plain": [
       "                                 Approach   Model Type  Train Size  \\\n",
       "0       Last Letter Only (from NLTK book)  Naive Bayes         500   \n",
       "1  First and Last Letter (from NLTK book)  Naive Bayes         500   \n",
       "\n",
       "   Training split 50-50  Test Set Score  \n",
       "0                 False           0.762  \n",
       "1                 False           0.777  "
      ]
     },
     "execution_count": 17,
     "metadata": {},
     "output_type": "execute_result"
    }
   ],
   "source": [
    "df1 = pd.DataFrame({\"Approach\": [\"Last Letter Only (from NLTK book)\",\\\n",
    "                                 \"First and Last Letter (from NLTK book)\"],\n",
    "                    \"Model Type\":[\"Naive Bayes\",\"Naive Bayes\"],\n",
    "                    \"Train Size\":[500,500], \n",
    "                    \"Training split 50-50\":[False, False], \n",
    "                    \"Test Set Score\": [.762,.777 ]})\n",
    "df1.head()"
   ]
  },
  {
   "cell_type": "code",
   "execution_count": 18,
   "id": "ee0b4c85",
   "metadata": {},
   "outputs": [
    {
     "name": "stdout",
     "output_type": "stream",
     "text": [
      "There are 2943 males and 5001 females. 37.05% of the dataset is male.\n"
     ]
    }
   ],
   "source": [
    "print(\"There are {} males and {} females. \\\n",
    "{}% of the dataset is male.\".format(\\\n",
    "                                 len([guy for guy in labeled_names if guy[1]==\"male\"]),\n",
    "                                len([girl for girl in labeled_names if girl[1]==\"female\"]),\n",
    "                                round( ( (len([guy for guy in labeled_names if guy[1]==\"male\"])/\\\n",
    "                                len(labeled_names))*100)\\\n",
    "                                ,2)\n",
    "                                )\n",
    "     )"
   ]
  },
  {
   "cell_type": "markdown",
   "id": "53b43b28",
   "metadata": {},
   "source": [
    "### Hypothesis 1: \n",
    "#### Make the training set 50/50 by sex first to see if that alone will improve results."
   ]
  },
  {
   "cell_type": "code",
   "execution_count": 19,
   "id": "012a057d",
   "metadata": {},
   "outputs": [],
   "source": [
    "newlyOrderedLabeled_names = []"
   ]
  },
  {
   "cell_type": "code",
   "execution_count": 20,
   "id": "5d205ab1",
   "metadata": {},
   "outputs": [
    {
     "name": "stdout",
     "output_type": "stream",
     "text": [
      "250 250 7944\n"
     ]
    }
   ],
   "source": [
    "#Create newly ordered labeled names list, where the first 250 will be male, \n",
    "#the second 250 will be female,\n",
    "#and the rest are a random distribtion\n",
    "\n",
    "#Don't run this cell more than once!\n",
    "firstTwoFiftyMales=[]\n",
    "secondTwoFiftyFemales =[]\n",
    "labeled_names2 = labeled_names.copy() #passing by value, not reference\n",
    "trainingSize = 500\n",
    "\n",
    "malesNotYetSelected = True\n",
    "femalesNotYetSelected = True\n",
    "\n",
    "loopcounter = 0\n",
    "\n",
    "if(trainingSize%2 !=0):\n",
    "    print(\"Invalid training size.  Must be an even integer.  You will get invalid results...\")\n",
    "\n",
    "while(malesNotYetSelected | femalesNotYetSelected):\n",
    "    if(malesNotYetSelected):\n",
    "        rando = random.choice(range(len(labeled_names2)))\n",
    "        if((labeled_names2[rando][1]==\"male\") & \\\n",
    "          (labeled_names2[rando] not in firstTwoFiftyMales) ):\n",
    "            labeled_nameToBeAdded = labeled_names2.pop(rando) #We remove the random male...\n",
    "            firstTwoFiftyMales.append(labeled_nameToBeAdded) #and put it in the first 250\n",
    "    if(femalesNotYetSelected): #not elif\n",
    "        rando = random.choice(range(len(labeled_names2)))\n",
    "        if((labeled_names2[rando][1]==\"female\") & \\\n",
    "          (labeled_names2[rando] not in secondTwoFiftyFemales) ):\n",
    "            labeled_nameToBeAdded = labeled_names2.pop(rando) #We remove the random female...\n",
    "            secondTwoFiftyFemales.append(labeled_nameToBeAdded) #and put it in the Second 250\n",
    "    loopcounter = loopcounter +1\n",
    "    if(loopcounter %1000 == 0):\n",
    "        print(loopcounter, \"loops so far...\")\n",
    "        if(femalesNotYetSelected == False):\n",
    "            print(\"Women already selected though.\")\n",
    "    if(len(firstTwoFiftyMales)>= trainingSize/2):\n",
    "        malesNotYetSelected = False\n",
    "    if(len(secondTwoFiftyFemales)>=trainingSize/2):\n",
    "        femalesNotYetSelected = False\n",
    "print(len(firstTwoFiftyMales), len(secondTwoFiftyFemales), len(labeled_names))"
   ]
  },
  {
   "cell_type": "code",
   "execution_count": 21,
   "id": "493d33fd",
   "metadata": {},
   "outputs": [
    {
     "name": "stdout",
     "output_type": "stream",
     "text": [
      "7944 True\n"
     ]
    }
   ],
   "source": [
    "newlyOrderedLabeled_names = firstTwoFiftyMales + secondTwoFiftyFemales + labeled_names2\n",
    "print(len(newlyOrderedLabeled_names),  \\\n",
    "      len(newlyOrderedLabeled_names) == \\\n",
    "      (len(labeled_names2) + len(firstTwoFiftyMales) + len(secondTwoFiftyFemales) )\\\n",
    "     )\n",
    "#the length is the same. If this bool isn't printing as True,  restart the kernel and \n",
    "#rerun the notebook"
   ]
  },
  {
   "cell_type": "code",
   "execution_count": 22,
   "id": "41739a6e",
   "metadata": {},
   "outputs": [
    {
     "name": "stdout",
     "output_type": "stream",
     "text": [
      "0.767\n"
     ]
    }
   ],
   "source": [
    "#using the same gender_features2 for now, only changing traindata\n",
    "featuresets = [(gender_features2(n), gender) for (n, gender) in newlyOrderedLabeled_names]\n",
    "train_set, devtest_set, test_set = featuresets[500:],\\\n",
    "featuresets[500:1000],\\\n",
    "featuresets[:1000]\n",
    "\n",
    "classifier = nltk.NaiveBayesClassifier.train(train_set)\n",
    "print(nltk.classify.accuracy(classifier, test_set))"
   ]
  },
  {
   "cell_type": "code",
   "execution_count": 23,
   "id": "567689b6",
   "metadata": {},
   "outputs": [
    {
     "data": {
      "text/html": [
       "<div>\n",
       "<style scoped>\n",
       "    .dataframe tbody tr th:only-of-type {\n",
       "        vertical-align: middle;\n",
       "    }\n",
       "\n",
       "    .dataframe tbody tr th {\n",
       "        vertical-align: top;\n",
       "    }\n",
       "\n",
       "    .dataframe thead th {\n",
       "        text-align: right;\n",
       "    }\n",
       "</style>\n",
       "<table border=\"1\" class=\"dataframe\">\n",
       "  <thead>\n",
       "    <tr style=\"text-align: right;\">\n",
       "      <th></th>\n",
       "      <th>Approach</th>\n",
       "      <th>Model Type</th>\n",
       "      <th>Train Size</th>\n",
       "      <th>Training split 50-50</th>\n",
       "      <th>Test Set Score</th>\n",
       "    </tr>\n",
       "  </thead>\n",
       "  <tbody>\n",
       "    <tr>\n",
       "      <th>0</th>\n",
       "      <td>Last Letter Only (from NLTK book)</td>\n",
       "      <td>Naive Bayes</td>\n",
       "      <td>500</td>\n",
       "      <td>False</td>\n",
       "      <td>0.762</td>\n",
       "    </tr>\n",
       "    <tr>\n",
       "      <th>1</th>\n",
       "      <td>First and Last Letter (from NLTK book)</td>\n",
       "      <td>Naive Bayes</td>\n",
       "      <td>500</td>\n",
       "      <td>False</td>\n",
       "      <td>0.777</td>\n",
       "    </tr>\n",
       "    <tr>\n",
       "      <th>2</th>\n",
       "      <td>First and Last Letter</td>\n",
       "      <td>Naive Bayes</td>\n",
       "      <td>500</td>\n",
       "      <td>True</td>\n",
       "      <td>0.767</td>\n",
       "    </tr>\n",
       "  </tbody>\n",
       "</table>\n",
       "</div>"
      ],
      "text/plain": [
       "                                 Approach   Model Type  Train Size  \\\n",
       "0       Last Letter Only (from NLTK book)  Naive Bayes         500   \n",
       "1  First and Last Letter (from NLTK book)  Naive Bayes         500   \n",
       "2                   First and Last Letter  Naive Bayes         500   \n",
       "\n",
       "   Training split 50-50  Test Set Score  \n",
       "0                 False           0.762  \n",
       "1                 False           0.777  \n",
       "2                  True           0.767  "
      ]
     },
     "execution_count": 23,
     "metadata": {},
     "output_type": "execute_result"
    }
   ],
   "source": [
    "df1.loc[len(df1.index)] = ['First and Last Letter',\"Naive Bayes\",\n",
    "                           500, True,nltk.classify.accuracy(classifier, test_set)]\n",
    "df1"
   ]
  },
  {
   "cell_type": "markdown",
   "id": "5dbf4ca3",
   "metadata": {},
   "source": [
    "#### Making the training set 50-50 by sex did not improve results.\n",
    "------------"
   ]
  },
  {
   "cell_type": "markdown",
   "id": "2a49419f",
   "metadata": {},
   "source": [
    "### Hypothesis 2: \n",
    "#### Increase the size of the training data to 2000"
   ]
  },
  {
   "cell_type": "code",
   "execution_count": 24,
   "id": "10c1c154",
   "metadata": {},
   "outputs": [
    {
     "name": "stdout",
     "output_type": "stream",
     "text": [
      "1000 males 1000 females, and 5944\n",
      "= 7944\n",
      "expected length, success.\n"
     ]
    }
   ],
   "source": [
    "firstTwoFiftyMales=[]\n",
    "secondTwoFiftyFemales =[]\n",
    "labeled_names2 = labeled_names.copy() #passing by value, not reference\n",
    "trainingSize = 2000\n",
    "\n",
    "femaleSelectedNotification = False\n",
    "\n",
    "verboseLooping = False\n",
    "\n",
    "malesNotYetSelected = True\n",
    "femalesNotYetSelected = True\n",
    "\n",
    "loopcounter = 0\n",
    "\n",
    "if(trainingSize%2 !=0):\n",
    "    print(\"Invalid training size.  Must be an even integer.  You will get invalid results...\")\n",
    "\n",
    "while(malesNotYetSelected | femalesNotYetSelected):\n",
    "    if(malesNotYetSelected):\n",
    "        rando = random.choice(range(len(labeled_names2)))\n",
    "        if((labeled_names2[rando][1]==\"male\") & \\\n",
    "          (labeled_names2[rando] not in firstTwoFiftyMales) ):\n",
    "            labeled_nameToBeAdded = labeled_names2.pop(rando) #We remove the random male...\n",
    "            firstTwoFiftyMales.append(labeled_nameToBeAdded) #and put it in the first 250\n",
    "    if(femalesNotYetSelected): #not elif\n",
    "        rando = random.choice(range(len(labeled_names2)))\n",
    "        if((labeled_names2[rando][1]==\"female\") & \\\n",
    "          (labeled_names2[rando] not in secondTwoFiftyFemales) ):\n",
    "            labeled_nameToBeAdded = labeled_names2.pop(rando) #We remove the random female...\n",
    "            secondTwoFiftyFemales.append(labeled_nameToBeAdded) #and put it in the Second 250\n",
    "    loopcounter = loopcounter +1\n",
    "    if((verboseLooping) & (loopcounter %400 == 0)):\n",
    "        print(loopcounter, \"loops so far...\")\n",
    "        if((femalesNotYetSelected == False) & (femaleSelectedNotification == False)):\n",
    "            femaleSelectedNotification = True\n",
    "            print(\"Women already selected though.\")\n",
    "            \n",
    "    if(len(firstTwoFiftyMales)>= trainingSize/2):\n",
    "        malesNotYetSelected = False\n",
    "    if(len(secondTwoFiftyFemales)>=trainingSize/2):\n",
    "        femalesNotYetSelected = False\n",
    "        \n",
    "print(len(firstTwoFiftyMales), \"males\", len(secondTwoFiftyFemales), \"females, and\", len(labeled_names2))\n",
    "print(\"=\", sum((len(firstTwoFiftyMales), len(secondTwoFiftyFemales), len(labeled_names2))))\n",
    "if(sum((len(firstTwoFiftyMales), len(secondTwoFiftyFemales), len(labeled_names2))) ==\\\n",
    "  len(labeled_names)):\n",
    "    print(\"expected length, success.\")\n",
    "else: #you shouldn't see this...\n",
    "    print(\"\"\"Something's wrong here.  The three parts of the list \n",
    "          (the first cohort of males, the second cohort of females, and the rest)\n",
    "          are the wrong total length.\"\"\")"
   ]
  },
  {
   "cell_type": "code",
   "execution_count": 25,
   "id": "f6496355",
   "metadata": {},
   "outputs": [
    {
     "name": "stdout",
     "output_type": "stream",
     "text": [
      "0.7698383541513593\n"
     ]
    }
   ],
   "source": [
    "featuresets = [(gender_features2(n), gender) for (n, gender) in newlyOrderedLabeled_names]\n",
    "train_set, devtest_set, test_set = featuresets[:trainingSize],\\\n",
    "featuresets[trainingSize:trainingSize+500],\\\n",
    "featuresets[trainingSize+500:] #trainingSize set to 2000 earlier\n",
    "classifier = nltk.NaiveBayesClassifier.train(train_set)\n",
    "print(nltk.classify.accuracy(classifier, test_set))"
   ]
  },
  {
   "cell_type": "code",
   "execution_count": 26,
   "id": "b297467d",
   "metadata": {},
   "outputs": [
    {
     "data": {
      "text/html": [
       "<div>\n",
       "<style scoped>\n",
       "    .dataframe tbody tr th:only-of-type {\n",
       "        vertical-align: middle;\n",
       "    }\n",
       "\n",
       "    .dataframe tbody tr th {\n",
       "        vertical-align: top;\n",
       "    }\n",
       "\n",
       "    .dataframe thead th {\n",
       "        text-align: right;\n",
       "    }\n",
       "</style>\n",
       "<table border=\"1\" class=\"dataframe\">\n",
       "  <thead>\n",
       "    <tr style=\"text-align: right;\">\n",
       "      <th></th>\n",
       "      <th>Approach</th>\n",
       "      <th>Model Type</th>\n",
       "      <th>Train Size</th>\n",
       "      <th>Training split 50-50</th>\n",
       "      <th>Test Set Score</th>\n",
       "    </tr>\n",
       "  </thead>\n",
       "  <tbody>\n",
       "    <tr>\n",
       "      <th>0</th>\n",
       "      <td>Last Letter Only (from NLTK book)</td>\n",
       "      <td>Naive Bayes</td>\n",
       "      <td>500</td>\n",
       "      <td>False</td>\n",
       "      <td>0.762000</td>\n",
       "    </tr>\n",
       "    <tr>\n",
       "      <th>1</th>\n",
       "      <td>First and Last Letter (from NLTK book)</td>\n",
       "      <td>Naive Bayes</td>\n",
       "      <td>500</td>\n",
       "      <td>False</td>\n",
       "      <td>0.777000</td>\n",
       "    </tr>\n",
       "    <tr>\n",
       "      <th>2</th>\n",
       "      <td>First and Last Letter</td>\n",
       "      <td>Naive Bayes</td>\n",
       "      <td>500</td>\n",
       "      <td>True</td>\n",
       "      <td>0.767000</td>\n",
       "    </tr>\n",
       "    <tr>\n",
       "      <th>3</th>\n",
       "      <td>First and Last Letter</td>\n",
       "      <td>Naive Bayes</td>\n",
       "      <td>2000</td>\n",
       "      <td>True</td>\n",
       "      <td>0.769838</td>\n",
       "    </tr>\n",
       "  </tbody>\n",
       "</table>\n",
       "</div>"
      ],
      "text/plain": [
       "                                 Approach   Model Type  Train Size  \\\n",
       "0       Last Letter Only (from NLTK book)  Naive Bayes         500   \n",
       "1  First and Last Letter (from NLTK book)  Naive Bayes         500   \n",
       "2                   First and Last Letter  Naive Bayes         500   \n",
       "3                   First and Last Letter  Naive Bayes        2000   \n",
       "\n",
       "   Training split 50-50  Test Set Score  \n",
       "0                 False        0.762000  \n",
       "1                 False        0.777000  \n",
       "2                  True        0.767000  \n",
       "3                  True        0.769838  "
      ]
     },
     "execution_count": 26,
     "metadata": {},
     "output_type": "execute_result"
    }
   ],
   "source": [
    "df1.loc[len(df1.index)] = ['First and Last Letter',\"Naive Bayes\",\n",
    "                           2000, True,nltk.classify.accuracy(classifier, test_set)]\n",
    "df1"
   ]
  },
  {
   "cell_type": "markdown",
   "id": "30b54efb",
   "metadata": {},
   "source": [
    "#### Increasing our training data size to 2000 (conisiting of 1000 men and 1000 women) didn't improve our results much at all.\n",
    "-------"
   ]
  },
  {
   "cell_type": "markdown",
   "id": "62d0605c",
   "metadata": {},
   "source": [
    "### Hyptohesis 3: \n",
    "#### Two subsequent letters.\n",
    "\n",
    "For example, Candice's feature would look like this:\n",
    "\n",
    "Candice\n",
    "\n",
    "has(an) True\n",
    "\n",
    "has(ca) True\n",
    "\n",
    "has(ce) True\n",
    "\n",
    "has(di) True\n",
    "\n",
    "has(ic) True\n",
    "\n",
    "has(nd) True"
   ]
  },
  {
   "cell_type": "code",
   "execution_count": 27,
   "id": "f3c4d234",
   "metadata": {},
   "outputs": [],
   "source": [
    "def gender_features_EachTwoLetters(name):\n",
    "    alphabet = 'abcdefghijklmnopqrstuvwxyz'\n",
    "    features = {}\n",
    "    for letter1 in alphabet:\n",
    "        for letter2 in alphabet:\n",
    "            tempTwoLetters = letter1 + letter2\n",
    "            features[\"has({})\".format(tempTwoLetters)] = (tempTwoLetters in name.lower())\n",
    "    return features\n",
    "            "
   ]
  },
  {
   "cell_type": "code",
   "execution_count": 28,
   "id": "08cd22a8",
   "metadata": {},
   "outputs": [],
   "source": [
    "featuresets = [(gender_features_EachTwoLetters(n), gender) for (n, gender) in labeled_names]"
   ]
  },
  {
   "cell_type": "code",
   "execution_count": 29,
   "id": "385aa87a",
   "metadata": {},
   "outputs": [
    {
     "name": "stdout",
     "output_type": "stream",
     "text": [
      "('Kellie', 'female')\n",
      "has(el) True\n",
      "has(ie) True\n",
      "has(ke) True\n",
      "has(li) True\n",
      "has(ll) True\n"
     ]
    }
   ],
   "source": [
    "num = 3\n",
    "print(labeled_names[num])\n",
    "for i in featuresets[num][0]:\n",
    "    if(featuresets[num][0][i]==True):\n",
    "        print(i, featuresets[num][0][i])\n",
    "#works as expected"
   ]
  },
  {
   "cell_type": "code",
   "execution_count": 30,
   "id": "b0219716",
   "metadata": {},
   "outputs": [
    {
     "data": {
      "text/plain": [
       "[('Worthy', 'male'),\n",
       " ('Candice', 'female'),\n",
       " ('Janith', 'female'),\n",
       " ('Kellie', 'female'),\n",
       " ('Rozamond', 'female')]"
      ]
     },
     "execution_count": 30,
     "metadata": {},
     "output_type": "execute_result"
    }
   ],
   "source": [
    "labeled_names[:5]"
   ]
  },
  {
   "cell_type": "code",
   "execution_count": 31,
   "id": "59fcc911",
   "metadata": {},
   "outputs": [
    {
     "name": "stdout",
     "output_type": "stream",
     "text": [
      "0.7244673034533431\n"
     ]
    }
   ],
   "source": [
    "featuresets = [(gender_features_EachTwoLetters(n), gender) for (n, gender) in newlyOrderedLabeled_names]\n",
    "train_set, devtest_set, test_set = featuresets[:trainingSize],\\\n",
    "featuresets[trainingSize:trainingSize+500] ,\\\n",
    "featuresets[trainingSize+500:] #trainingSize set to 2000 earlier\n",
    "classifier = nltk.NaiveBayesClassifier.train(train_set)\n",
    "print(nltk.classify.accuracy(classifier, test_set))"
   ]
  },
  {
   "cell_type": "code",
   "execution_count": 32,
   "id": "6a62a0e5",
   "metadata": {},
   "outputs": [
    {
     "data": {
      "text/html": [
       "<div>\n",
       "<style scoped>\n",
       "    .dataframe tbody tr th:only-of-type {\n",
       "        vertical-align: middle;\n",
       "    }\n",
       "\n",
       "    .dataframe tbody tr th {\n",
       "        vertical-align: top;\n",
       "    }\n",
       "\n",
       "    .dataframe thead th {\n",
       "        text-align: right;\n",
       "    }\n",
       "</style>\n",
       "<table border=\"1\" class=\"dataframe\">\n",
       "  <thead>\n",
       "    <tr style=\"text-align: right;\">\n",
       "      <th></th>\n",
       "      <th>Approach</th>\n",
       "      <th>Model Type</th>\n",
       "      <th>Train Size</th>\n",
       "      <th>Training split 50-50</th>\n",
       "      <th>Test Set Score</th>\n",
       "    </tr>\n",
       "  </thead>\n",
       "  <tbody>\n",
       "    <tr>\n",
       "      <th>0</th>\n",
       "      <td>Last Letter Only (from NLTK book)</td>\n",
       "      <td>Naive Bayes</td>\n",
       "      <td>500</td>\n",
       "      <td>False</td>\n",
       "      <td>0.762000</td>\n",
       "    </tr>\n",
       "    <tr>\n",
       "      <th>1</th>\n",
       "      <td>First and Last Letter (from NLTK book)</td>\n",
       "      <td>Naive Bayes</td>\n",
       "      <td>500</td>\n",
       "      <td>False</td>\n",
       "      <td>0.777000</td>\n",
       "    </tr>\n",
       "    <tr>\n",
       "      <th>2</th>\n",
       "      <td>First and Last Letter</td>\n",
       "      <td>Naive Bayes</td>\n",
       "      <td>500</td>\n",
       "      <td>True</td>\n",
       "      <td>0.767000</td>\n",
       "    </tr>\n",
       "    <tr>\n",
       "      <th>3</th>\n",
       "      <td>First and Last Letter</td>\n",
       "      <td>Naive Bayes</td>\n",
       "      <td>2000</td>\n",
       "      <td>True</td>\n",
       "      <td>0.769838</td>\n",
       "    </tr>\n",
       "    <tr>\n",
       "      <th>4</th>\n",
       "      <td>Sets of two adjacent letters</td>\n",
       "      <td>Naive Bayes</td>\n",
       "      <td>2000</td>\n",
       "      <td>True</td>\n",
       "      <td>0.724467</td>\n",
       "    </tr>\n",
       "  </tbody>\n",
       "</table>\n",
       "</div>"
      ],
      "text/plain": [
       "                                 Approach   Model Type  Train Size  \\\n",
       "0       Last Letter Only (from NLTK book)  Naive Bayes         500   \n",
       "1  First and Last Letter (from NLTK book)  Naive Bayes         500   \n",
       "2                   First and Last Letter  Naive Bayes         500   \n",
       "3                   First and Last Letter  Naive Bayes        2000   \n",
       "4            Sets of two adjacent letters  Naive Bayes        2000   \n",
       "\n",
       "   Training split 50-50  Test Set Score  \n",
       "0                 False        0.762000  \n",
       "1                 False        0.777000  \n",
       "2                  True        0.767000  \n",
       "3                  True        0.769838  \n",
       "4                  True        0.724467  "
      ]
     },
     "execution_count": 32,
     "metadata": {},
     "output_type": "execute_result"
    }
   ],
   "source": [
    "df1.loc[len(df1.index)] = ['Sets of two adjacent letters',\n",
    "                           \"Naive Bayes\",\n",
    "                           2000 , True,nltk.classify.accuracy(classifier, test_set)]\n",
    "df1"
   ]
  },
  {
   "cell_type": "markdown",
   "id": "d625861c",
   "metadata": {},
   "source": [
    "##### The approach of just trying two adjacent letters alone didn't work.\n",
    "----"
   ]
  },
  {
   "cell_type": "markdown",
   "id": "216806a7",
   "metadata": {},
   "source": [
    "## Hyptohesis 4:"
   ]
  },
  {
   "cell_type": "markdown",
   "id": "959d0c99",
   "metadata": {},
   "source": [
    "#### Use both the last letter and the last three letters"
   ]
  },
  {
   "cell_type": "code",
   "execution_count": 33,
   "id": "cb145645",
   "metadata": {},
   "outputs": [],
   "source": [
    "def gender_features_last1and3(word):\n",
    "    return {'suffix1': word[-1:],\n",
    "    'suffix3': word[-3:]}"
   ]
  },
  {
   "cell_type": "code",
   "execution_count": 34,
   "id": "45c70121",
   "metadata": {},
   "outputs": [
    {
     "name": "stdout",
     "output_type": "stream",
     "text": [
      "dev test set: 0.764\n",
      "test set: 0.7803859447004609\n"
     ]
    }
   ],
   "source": [
    "featuresets = [(gender_features_last1and3(n), gender) for (n, gender) in labeled_names]\n",
    "train_set, devtest_set, test_set = featuresets[:500],\\\n",
    "featuresets[500:1000] ,\\\n",
    "featuresets[1000:]\n",
    "devtest_set = [(gender_features_last1and3(n), gender) for (n, gender) in devtest_names]\n",
    "classifier = nltk.NaiveBayesClassifier.train(train_set)\n",
    "print(\"dev test set:\",nltk.classify.accuracy(classifier, devtest_set))\n",
    "print(\"test set:\",nltk.classify.accuracy(classifier, test_set))\n"
   ]
  },
  {
   "cell_type": "code",
   "execution_count": 35,
   "id": "aa0670f6",
   "metadata": {},
   "outputs": [
    {
     "name": "stdout",
     "output_type": "stream",
     "text": [
      "Most Informative Features\n",
      "                 suffix1 = 'o'              male : female =     20.5 : 1.0\n",
      "                 suffix1 = 'r'              male : female =     11.6 : 1.0\n",
      "                 suffix1 = 's'              male : female =      8.3 : 1.0\n",
      "                 suffix1 = 'b'              male : female =      3.9 : 1.0\n",
      "                 suffix3 = 'lle'          female : male   =      3.6 : 1.0\n"
     ]
    }
   ],
   "source": [
    "classifier.show_most_informative_features(5)"
   ]
  },
  {
   "cell_type": "code",
   "execution_count": 36,
   "id": "97f3f9a1",
   "metadata": {},
   "outputs": [],
   "source": [
    "errors = []\n",
    "for (name, tag) in devtest_names:\n",
    "    guess = classifier.classify(gender_features(name))\n",
    "    if guess != tag:\n",
    "        errors.append( (tag, guess, name) )"
   ]
  },
  {
   "cell_type": "code",
   "execution_count": 37,
   "id": "b5e5abff",
   "metadata": {},
   "outputs": [
    {
     "name": "stdout",
     "output_type": "stream",
     "text": [
      "correct=female   guess=male     name=Bren                          \n",
      "correct=female   guess=male     name=Caren                         \n",
      "correct=female   guess=male     name=Cass                          \n",
      "correct=female   guess=male     name=Catlin                        \n",
      "correct=female   guess=male     name=Celestyn                      \n",
      "correct=female   guess=male     name=Cherilynn                     \n",
      "correct=female   guess=male     name=Daveen                        \n",
      "correct=female   guess=male     name=Deloris                       \n",
      "correct=female   guess=male     name=Dion                          \n",
      "correct=female   guess=male     name=Dorian                        \n",
      "correct=female   guess=male     name=Edin                          \n",
      "correct=female   guess=male     name=Esther                        \n"
     ]
    }
   ],
   "source": [
    "#Eyeball some underlying logic in the errors\n",
    "for (tag, guess, name) in sorted(errors)[:12]:\n",
    "    print('correct={:<8} guess={:<8s} name={:<30}'.format(tag, guess, name))\n"
   ]
  },
  {
   "cell_type": "code",
   "execution_count": 38,
   "id": "ba8db50e",
   "metadata": {},
   "outputs": [
    {
     "name": "stdout",
     "output_type": "stream",
     "text": [
      "There were 26.4% erroneous guesses.\n"
     ]
    }
   ],
   "source": [
    "print(\"There were {}% erroneous guesses.\".format(str\\\n",
    "                                                 (round( ( (len(errors) / len(devtest_set)) *100)\n",
    "                                                         , 2) ) ) )"
   ]
  },
  {
   "cell_type": "code",
   "execution_count": 39,
   "id": "4b39234e",
   "metadata": {},
   "outputs": [
    {
     "name": "stdout",
     "output_type": "stream",
     "text": [
      "Of the 132 errors, 49 were girls, or 37.12% of the errors.\n",
      "The devset contained 60.4% females.\n"
     ]
    }
   ],
   "source": [
    "girlErrorCount=0\n",
    "for i in errors:\n",
    "    if i[0] =='female':\n",
    "        girlErrorCount = girlErrorCount +1\n",
    "print(\"Of the {} errors, {} were girls, or {}% of the errors.\".format(\\\n",
    "                                                                  len(errors),\n",
    "                                                                   girlErrorCount,\n",
    "                                                                   round(\n",
    "                                                                       (girlErrorCount /\\\n",
    "                                                                        len(errors) )*100,\n",
    "                                                                       2 )\n",
    "                                                                  ))\n",
    "\n",
    "print(\"The devset contained {}% females.\".format(\\\n",
    "                                                 round(\\\n",
    "                                                        (len([i for i in devtest_set if i[1]=='female'])) \\\n",
    "                                                       / len(devtest_set) *100\n",
    "                                                       ,2)\n",
    "                                                      )\n",
    "     )"
   ]
  },
  {
   "cell_type": "code",
   "execution_count": 40,
   "id": "49890fc0",
   "metadata": {},
   "outputs": [
    {
     "data": {
      "text/html": [
       "<div>\n",
       "<style scoped>\n",
       "    .dataframe tbody tr th:only-of-type {\n",
       "        vertical-align: middle;\n",
       "    }\n",
       "\n",
       "    .dataframe tbody tr th {\n",
       "        vertical-align: top;\n",
       "    }\n",
       "\n",
       "    .dataframe thead th {\n",
       "        text-align: right;\n",
       "    }\n",
       "</style>\n",
       "<table border=\"1\" class=\"dataframe\">\n",
       "  <thead>\n",
       "    <tr style=\"text-align: right;\">\n",
       "      <th></th>\n",
       "      <th>Approach</th>\n",
       "      <th>Model Type</th>\n",
       "      <th>Train Size</th>\n",
       "      <th>Training split 50-50</th>\n",
       "      <th>Test Set Score</th>\n",
       "    </tr>\n",
       "  </thead>\n",
       "  <tbody>\n",
       "    <tr>\n",
       "      <th>0</th>\n",
       "      <td>Last Letter Only (from NLTK book)</td>\n",
       "      <td>Naive Bayes</td>\n",
       "      <td>500</td>\n",
       "      <td>False</td>\n",
       "      <td>0.762000</td>\n",
       "    </tr>\n",
       "    <tr>\n",
       "      <th>1</th>\n",
       "      <td>First and Last Letter (from NLTK book)</td>\n",
       "      <td>Naive Bayes</td>\n",
       "      <td>500</td>\n",
       "      <td>False</td>\n",
       "      <td>0.777000</td>\n",
       "    </tr>\n",
       "    <tr>\n",
       "      <th>2</th>\n",
       "      <td>First and Last Letter</td>\n",
       "      <td>Naive Bayes</td>\n",
       "      <td>500</td>\n",
       "      <td>True</td>\n",
       "      <td>0.767000</td>\n",
       "    </tr>\n",
       "    <tr>\n",
       "      <th>3</th>\n",
       "      <td>First and Last Letter</td>\n",
       "      <td>Naive Bayes</td>\n",
       "      <td>2000</td>\n",
       "      <td>True</td>\n",
       "      <td>0.769838</td>\n",
       "    </tr>\n",
       "    <tr>\n",
       "      <th>4</th>\n",
       "      <td>Sets of two adjacent letters</td>\n",
       "      <td>Naive Bayes</td>\n",
       "      <td>2000</td>\n",
       "      <td>True</td>\n",
       "      <td>0.724467</td>\n",
       "    </tr>\n",
       "    <tr>\n",
       "      <th>5</th>\n",
       "      <td>Last letter and last 3 letters</td>\n",
       "      <td>Naive Bayes</td>\n",
       "      <td>500</td>\n",
       "      <td>False</td>\n",
       "      <td>0.780386</td>\n",
       "    </tr>\n",
       "  </tbody>\n",
       "</table>\n",
       "</div>"
      ],
      "text/plain": [
       "                                 Approach   Model Type  Train Size  \\\n",
       "0       Last Letter Only (from NLTK book)  Naive Bayes         500   \n",
       "1  First and Last Letter (from NLTK book)  Naive Bayes         500   \n",
       "2                   First and Last Letter  Naive Bayes         500   \n",
       "3                   First and Last Letter  Naive Bayes        2000   \n",
       "4            Sets of two adjacent letters  Naive Bayes        2000   \n",
       "5          Last letter and last 3 letters  Naive Bayes         500   \n",
       "\n",
       "   Training split 50-50  Test Set Score  \n",
       "0                 False        0.762000  \n",
       "1                 False        0.777000  \n",
       "2                  True        0.767000  \n",
       "3                  True        0.769838  \n",
       "4                  True        0.724467  \n",
       "5                 False        0.780386  "
      ]
     },
     "execution_count": 40,
     "metadata": {},
     "output_type": "execute_result"
    }
   ],
   "source": [
    "df1.loc[len(df1.index)] = ['Last letter and last 3 letters',\"Naive Bayes\",\n",
    "                           500 , False, nltk.classify.accuracy(classifier, test_set)]\n",
    "df1"
   ]
  },
  {
   "cell_type": "markdown",
   "id": "f99a4dec",
   "metadata": {},
   "source": [
    "##### The last three letters along with the last letter has been the best approach so far."
   ]
  },
  {
   "cell_type": "markdown",
   "id": "cde6302d",
   "metadata": {},
   "source": [
    "## Hypothesis 5:\n",
    "##### Decision Tree Approach using the last letter and last three letters"
   ]
  },
  {
   "cell_type": "code",
   "execution_count": 41,
   "id": "dd652d09",
   "metadata": {},
   "outputs": [
    {
     "name": "stdout",
     "output_type": "stream",
     "text": [
      "dev test set: 0.658\n",
      "test set: 0.6718029953917051\n"
     ]
    }
   ],
   "source": [
    "featuresets = [(gender_features_last1and3(n), gender) for (n, gender) in labeled_names]\n",
    "train_set, devtest_set, test_set = featuresets[:500],\\\n",
    "featuresets[500:1000] ,\\\n",
    "featuresets[1000:]\n",
    "\n",
    "classifier = nltk.DecisionTreeClassifier.train(train_set)\n",
    "print(\"dev test set:\",nltk.classify.accuracy(classifier, devtest_set))\n",
    "print(\"test set:\",nltk.classify.accuracy(classifier, test_set))\n"
   ]
  },
  {
   "cell_type": "code",
   "execution_count": 42,
   "id": "09b647ae",
   "metadata": {},
   "outputs": [
    {
     "name": "stdout",
     "output_type": "stream",
     "text": [
      "if suffix3 == 'Ace': return 'male'\n",
      "if suffix3 == 'air': return 'male'\n",
      "if suffix3 == 'ala': return 'female'\n",
      "if suffix3 == 'ana': return 'female'\n",
      "if suffix3 == 'ane': return 'male'\n",
      "if suffix3 == 'ani': return 'female'\n",
      "if suffix3 == 'ann': return 'female'\n",
      "if suffix3 == 'ano': return 'male'\n",
      " ...\n"
     ]
    }
   ],
   "source": [
    "print(classifier.pseudocode(depth=4)[:288], \"...\")"
   ]
  },
  {
   "cell_type": "code",
   "execution_count": 43,
   "id": "c7a9543b",
   "metadata": {},
   "outputs": [
    {
     "data": {
      "text/html": [
       "<div>\n",
       "<style scoped>\n",
       "    .dataframe tbody tr th:only-of-type {\n",
       "        vertical-align: middle;\n",
       "    }\n",
       "\n",
       "    .dataframe tbody tr th {\n",
       "        vertical-align: top;\n",
       "    }\n",
       "\n",
       "    .dataframe thead th {\n",
       "        text-align: right;\n",
       "    }\n",
       "</style>\n",
       "<table border=\"1\" class=\"dataframe\">\n",
       "  <thead>\n",
       "    <tr style=\"text-align: right;\">\n",
       "      <th></th>\n",
       "      <th>Approach</th>\n",
       "      <th>Model Type</th>\n",
       "      <th>Train Size</th>\n",
       "      <th>Training split 50-50</th>\n",
       "      <th>Test Set Score</th>\n",
       "    </tr>\n",
       "  </thead>\n",
       "  <tbody>\n",
       "    <tr>\n",
       "      <th>0</th>\n",
       "      <td>Last Letter Only (from NLTK book)</td>\n",
       "      <td>Naive Bayes</td>\n",
       "      <td>500</td>\n",
       "      <td>False</td>\n",
       "      <td>0.762000</td>\n",
       "    </tr>\n",
       "    <tr>\n",
       "      <th>1</th>\n",
       "      <td>First and Last Letter (from NLTK book)</td>\n",
       "      <td>Naive Bayes</td>\n",
       "      <td>500</td>\n",
       "      <td>False</td>\n",
       "      <td>0.777000</td>\n",
       "    </tr>\n",
       "    <tr>\n",
       "      <th>2</th>\n",
       "      <td>First and Last Letter</td>\n",
       "      <td>Naive Bayes</td>\n",
       "      <td>500</td>\n",
       "      <td>True</td>\n",
       "      <td>0.767000</td>\n",
       "    </tr>\n",
       "    <tr>\n",
       "      <th>3</th>\n",
       "      <td>First and Last Letter</td>\n",
       "      <td>Naive Bayes</td>\n",
       "      <td>2000</td>\n",
       "      <td>True</td>\n",
       "      <td>0.769838</td>\n",
       "    </tr>\n",
       "    <tr>\n",
       "      <th>4</th>\n",
       "      <td>Sets of two adjacent letters</td>\n",
       "      <td>Naive Bayes</td>\n",
       "      <td>2000</td>\n",
       "      <td>True</td>\n",
       "      <td>0.724467</td>\n",
       "    </tr>\n",
       "    <tr>\n",
       "      <th>5</th>\n",
       "      <td>Last letter and last 3 letters</td>\n",
       "      <td>Naive Bayes</td>\n",
       "      <td>500</td>\n",
       "      <td>False</td>\n",
       "      <td>0.780386</td>\n",
       "    </tr>\n",
       "    <tr>\n",
       "      <th>6</th>\n",
       "      <td>Last letter and last 3 letters</td>\n",
       "      <td>Decision Tree</td>\n",
       "      <td>500</td>\n",
       "      <td>False</td>\n",
       "      <td>0.671803</td>\n",
       "    </tr>\n",
       "  </tbody>\n",
       "</table>\n",
       "</div>"
      ],
      "text/plain": [
       "                                 Approach     Model Type  Train Size  \\\n",
       "0       Last Letter Only (from NLTK book)    Naive Bayes         500   \n",
       "1  First and Last Letter (from NLTK book)    Naive Bayes         500   \n",
       "2                   First and Last Letter    Naive Bayes         500   \n",
       "3                   First and Last Letter    Naive Bayes        2000   \n",
       "4            Sets of two adjacent letters    Naive Bayes        2000   \n",
       "5          Last letter and last 3 letters    Naive Bayes         500   \n",
       "6          Last letter and last 3 letters  Decision Tree         500   \n",
       "\n",
       "   Training split 50-50  Test Set Score  \n",
       "0                 False        0.762000  \n",
       "1                 False        0.777000  \n",
       "2                  True        0.767000  \n",
       "3                  True        0.769838  \n",
       "4                  True        0.724467  \n",
       "5                 False        0.780386  \n",
       "6                 False        0.671803  "
      ]
     },
     "execution_count": 43,
     "metadata": {},
     "output_type": "execute_result"
    }
   ],
   "source": [
    "df1.loc[len(df1.index)] = ['Last letter and last 3 letters',\"Decision Tree\", 500 , False, nltk.classify.accuracy(classifier, test_set)]\n",
    "df1"
   ]
  },
  {
   "cell_type": "markdown",
   "id": "e92788ff",
   "metadata": {},
   "source": [
    "### Hypothesis 6:\n",
    "##### Decision Tree Approach using the last letter, last three letters, and first letter, and the first two letters"
   ]
  },
  {
   "cell_type": "code",
   "execution_count": 44,
   "id": "fecea5c5",
   "metadata": {},
   "outputs": [],
   "source": [
    "def gender_features_lastThreeAndOne_andFirstOneAndTwo(word):\n",
    "    return {'suffix1': word[-1:],\n",
    "    'suffix3': word[-3:],\n",
    "     \"firstLetter\" : word[0],\n",
    "    \"firstTwoLetters\": word[:2]\n",
    "           }"
   ]
  },
  {
   "cell_type": "code",
   "execution_count": 45,
   "id": "39a86164",
   "metadata": {},
   "outputs": [],
   "source": [
    "# Extract the features using the `gender_features()` function.\n",
    "featuresets = [(gender_features_lastThreeAndOne_andFirstOneAndTwo(n), gender) for (n, gender) in labeled_names]\n",
    "\n",
    "# Split the dataset into train and test set.\n",
    "train_set, devtest_set, test_set = featuresets[:500],\\\n",
    "featuresets[500:1000],\\\n",
    "featuresets[1000:]\n",
    "\n",
    "# Train a Decision Tree classifier\n",
    "classifier = nltk.DecisionTreeClassifier.train(train_set)"
   ]
  },
  {
   "cell_type": "code",
   "execution_count": 46,
   "id": "77fd44bd",
   "metadata": {},
   "outputs": [
    {
     "name": "stdout",
     "output_type": "stream",
     "text": [
      "dev test set: 0.658\n",
      "test set: 0.652073732718894\n"
     ]
    }
   ],
   "source": [
    "print(\"dev test set:\",nltk.classify.accuracy(classifier, devtest_set))\n",
    "print(\"test set:\",nltk.classify.accuracy(classifier, test_set))"
   ]
  },
  {
   "cell_type": "code",
   "execution_count": 47,
   "id": "9d44a323",
   "metadata": {},
   "outputs": [
    {
     "name": "stdout",
     "output_type": "stream",
     "text": [
      "if suffix3 == 'Ace': return 'male'\n",
      "if suffix3 == 'air': return 'male'\n",
      "if suffix3 == 'ala': return 'female'\n",
      "if suffix3 == 'ana': return 'female'\n",
      "if suffix3 == 'ane': \n",
      "  if firstTwoLetters == 'Ch': return 'male'\n",
      "  if firstTwoLetters == 'Il': return 'female'\n",
      "if suffix3 == 'ani': return 'female'\n",
      "if suffix3 == 'ann': return 'female'\n",
      "if suffix3 == 'ano': return 'male'\n",
      "if suffix3 == 'any': return 'female'\n",
      "if suffix3 == 'anz': return 'male'\n",
      "if suffix3 == 'ard': return 'male'\n",
      "if suffix3 == 'ari': return ...\n"
     ]
    }
   ],
   "source": [
    "print(classifier.pseudocode(depth=4)[:499], \"...\")"
   ]
  },
  {
   "cell_type": "code",
   "execution_count": 48,
   "id": "7ab30310",
   "metadata": {},
   "outputs": [
    {
     "data": {
      "text/html": [
       "<div>\n",
       "<style scoped>\n",
       "    .dataframe tbody tr th:only-of-type {\n",
       "        vertical-align: middle;\n",
       "    }\n",
       "\n",
       "    .dataframe tbody tr th {\n",
       "        vertical-align: top;\n",
       "    }\n",
       "\n",
       "    .dataframe thead th {\n",
       "        text-align: right;\n",
       "    }\n",
       "</style>\n",
       "<table border=\"1\" class=\"dataframe\">\n",
       "  <thead>\n",
       "    <tr style=\"text-align: right;\">\n",
       "      <th></th>\n",
       "      <th>Approach</th>\n",
       "      <th>Model Type</th>\n",
       "      <th>Train Size</th>\n",
       "      <th>Training split 50-50</th>\n",
       "      <th>Test Set Score</th>\n",
       "    </tr>\n",
       "  </thead>\n",
       "  <tbody>\n",
       "    <tr>\n",
       "      <th>0</th>\n",
       "      <td>Last Letter Only (from NLTK book)</td>\n",
       "      <td>Naive Bayes</td>\n",
       "      <td>500</td>\n",
       "      <td>False</td>\n",
       "      <td>0.762000</td>\n",
       "    </tr>\n",
       "    <tr>\n",
       "      <th>1</th>\n",
       "      <td>First and Last Letter (from NLTK book)</td>\n",
       "      <td>Naive Bayes</td>\n",
       "      <td>500</td>\n",
       "      <td>False</td>\n",
       "      <td>0.777000</td>\n",
       "    </tr>\n",
       "    <tr>\n",
       "      <th>2</th>\n",
       "      <td>First and Last Letter</td>\n",
       "      <td>Naive Bayes</td>\n",
       "      <td>500</td>\n",
       "      <td>True</td>\n",
       "      <td>0.767000</td>\n",
       "    </tr>\n",
       "    <tr>\n",
       "      <th>3</th>\n",
       "      <td>First and Last Letter</td>\n",
       "      <td>Naive Bayes</td>\n",
       "      <td>2000</td>\n",
       "      <td>True</td>\n",
       "      <td>0.769838</td>\n",
       "    </tr>\n",
       "    <tr>\n",
       "      <th>4</th>\n",
       "      <td>Sets of two adjacent letters</td>\n",
       "      <td>Naive Bayes</td>\n",
       "      <td>2000</td>\n",
       "      <td>True</td>\n",
       "      <td>0.724467</td>\n",
       "    </tr>\n",
       "    <tr>\n",
       "      <th>5</th>\n",
       "      <td>Last letter and last 3 letters</td>\n",
       "      <td>Naive Bayes</td>\n",
       "      <td>500</td>\n",
       "      <td>False</td>\n",
       "      <td>0.780386</td>\n",
       "    </tr>\n",
       "    <tr>\n",
       "      <th>6</th>\n",
       "      <td>Last letter and last 3 letters</td>\n",
       "      <td>Decision Tree</td>\n",
       "      <td>500</td>\n",
       "      <td>False</td>\n",
       "      <td>0.671803</td>\n",
       "    </tr>\n",
       "    <tr>\n",
       "      <th>7</th>\n",
       "      <td>First letter, first 2 letters, last letter, an...</td>\n",
       "      <td>Decision Tree</td>\n",
       "      <td>500</td>\n",
       "      <td>False</td>\n",
       "      <td>0.652074</td>\n",
       "    </tr>\n",
       "  </tbody>\n",
       "</table>\n",
       "</div>"
      ],
      "text/plain": [
       "                                            Approach     Model Type  \\\n",
       "0                  Last Letter Only (from NLTK book)    Naive Bayes   \n",
       "1             First and Last Letter (from NLTK book)    Naive Bayes   \n",
       "2                              First and Last Letter    Naive Bayes   \n",
       "3                              First and Last Letter    Naive Bayes   \n",
       "4                       Sets of two adjacent letters    Naive Bayes   \n",
       "5                     Last letter and last 3 letters    Naive Bayes   \n",
       "6                     Last letter and last 3 letters  Decision Tree   \n",
       "7  First letter, first 2 letters, last letter, an...  Decision Tree   \n",
       "\n",
       "   Train Size  Training split 50-50  Test Set Score  \n",
       "0         500                 False        0.762000  \n",
       "1         500                 False        0.777000  \n",
       "2         500                  True        0.767000  \n",
       "3        2000                  True        0.769838  \n",
       "4        2000                  True        0.724467  \n",
       "5         500                 False        0.780386  \n",
       "6         500                 False        0.671803  \n",
       "7         500                 False        0.652074  "
      ]
     },
     "execution_count": 48,
     "metadata": {},
     "output_type": "execute_result"
    }
   ],
   "source": [
    "df1.loc[len(df1.index)] = ['First letter, first 2 letters, last letter, and last 3 letters',\n",
    "                           \"Decision Tree\",\n",
    "                           500 , False, nltk.classify.accuracy(classifier, test_set)]\n",
    "df1"
   ]
  },
  {
   "cell_type": "markdown",
   "id": "d02eefdc",
   "metadata": {},
   "source": [
    "### Hypothesis 6:\n",
    "##### Decision Tree Approach using combinations of two letters, the last three letters, and the first two letters"
   ]
  },
  {
   "cell_type": "code",
   "execution_count": 49,
   "id": "97d33bbe",
   "metadata": {},
   "outputs": [],
   "source": [
    "def gender_features_EachTwoLetters_LastThree_FirstTwo(name):\n",
    "    alphabet = 'abcdefghijklmnopqrstuvwxyz'\n",
    "    features = {}\n",
    "    for letter1 in alphabet:\n",
    "        for letter2 in alphabet:\n",
    "            tempTwoLetters = letter1 + letter2\n",
    "            features[\"has({})\".format(tempTwoLetters)] = (tempTwoLetters in name.lower())\n",
    "    features['suffix3']= name[-3:]\n",
    "    features[\"firstTwoLetters\"] =  name[:2]\n",
    "    return features"
   ]
  },
  {
   "cell_type": "code",
   "execution_count": 50,
   "id": "04231d86",
   "metadata": {},
   "outputs": [],
   "source": [
    "featuresets = [(gender_features_EachTwoLetters_LastThree_FirstTwo(n), gender) for (n, gender) in labeled_names]\n",
    "\n",
    "# Split the dataset into train and test set.\n",
    "train_set, devtest_set, test_set = featuresets[:500],\\\n",
    "featuresets[500:1000],\\\n",
    "featuresets[1000:]\n",
    "\n",
    "# Train a Decision Tree classifier\n",
    "classifier = nltk.DecisionTreeClassifier.train(train_set)"
   ]
  },
  {
   "cell_type": "code",
   "execution_count": 51,
   "id": "83d20eb9",
   "metadata": {},
   "outputs": [
    {
     "name": "stdout",
     "output_type": "stream",
     "text": [
      "dev test set: 0.656\n",
      "test set: 0.663594470046083\n"
     ]
    }
   ],
   "source": [
    "print(\"dev test set:\",nltk.classify.accuracy(classifier, devtest_set))\n",
    "print(\"test set:\",nltk.classify.accuracy(classifier, test_set))"
   ]
  },
  {
   "cell_type": "code",
   "execution_count": 52,
   "id": "58db543a",
   "metadata": {},
   "outputs": [
    {
     "name": "stdout",
     "output_type": "stream",
     "text": [
      "if suffix3 == 'Ace': return 'male'\n",
      "if suffix3 == 'air': return 'male'\n",
      "if suffix3 == 'ala': return 'female'\n",
      "if suffix3 == 'ana': return 'female'\n",
      "if suffix3 == 'ane': \n",
      "  if has(ea) == False: return 'male'\n",
      "  if has(ea) == True: return 'female'\n",
      "if suffix3 == 'ani': return 'female'\n",
      "if suffix3 == 'ann': return 'female'\n",
      "if suffix3 == 'ano': return 'male'\n",
      "if suffix3 == 'any': return 'female'\n",
      "if suffix3 == 'anz': return 'male'\n",
      " ...\n"
     ]
    }
   ],
   "source": [
    "print(classifier.pseudocode(depth=4)[:422], \"...\")"
   ]
  },
  {
   "cell_type": "code",
   "execution_count": 53,
   "id": "87901027",
   "metadata": {},
   "outputs": [
    {
     "data": {
      "text/html": [
       "<div>\n",
       "<style scoped>\n",
       "    .dataframe tbody tr th:only-of-type {\n",
       "        vertical-align: middle;\n",
       "    }\n",
       "\n",
       "    .dataframe tbody tr th {\n",
       "        vertical-align: top;\n",
       "    }\n",
       "\n",
       "    .dataframe thead th {\n",
       "        text-align: right;\n",
       "    }\n",
       "</style>\n",
       "<table border=\"1\" class=\"dataframe\">\n",
       "  <thead>\n",
       "    <tr style=\"text-align: right;\">\n",
       "      <th></th>\n",
       "      <th>Approach</th>\n",
       "      <th>Model Type</th>\n",
       "      <th>Train Size</th>\n",
       "      <th>Training split 50-50</th>\n",
       "      <th>Test Set Score</th>\n",
       "    </tr>\n",
       "  </thead>\n",
       "  <tbody>\n",
       "    <tr>\n",
       "      <th>0</th>\n",
       "      <td>Last Letter Only (from NLTK book)</td>\n",
       "      <td>Naive Bayes</td>\n",
       "      <td>500</td>\n",
       "      <td>False</td>\n",
       "      <td>0.762000</td>\n",
       "    </tr>\n",
       "    <tr>\n",
       "      <th>1</th>\n",
       "      <td>First and Last Letter (from NLTK book)</td>\n",
       "      <td>Naive Bayes</td>\n",
       "      <td>500</td>\n",
       "      <td>False</td>\n",
       "      <td>0.777000</td>\n",
       "    </tr>\n",
       "    <tr>\n",
       "      <th>2</th>\n",
       "      <td>First and Last Letter</td>\n",
       "      <td>Naive Bayes</td>\n",
       "      <td>500</td>\n",
       "      <td>True</td>\n",
       "      <td>0.767000</td>\n",
       "    </tr>\n",
       "    <tr>\n",
       "      <th>3</th>\n",
       "      <td>First and Last Letter</td>\n",
       "      <td>Naive Bayes</td>\n",
       "      <td>2000</td>\n",
       "      <td>True</td>\n",
       "      <td>0.769838</td>\n",
       "    </tr>\n",
       "    <tr>\n",
       "      <th>4</th>\n",
       "      <td>Sets of two adjacent letters</td>\n",
       "      <td>Naive Bayes</td>\n",
       "      <td>2000</td>\n",
       "      <td>True</td>\n",
       "      <td>0.724467</td>\n",
       "    </tr>\n",
       "    <tr>\n",
       "      <th>5</th>\n",
       "      <td>Last letter and last 3 letters</td>\n",
       "      <td>Naive Bayes</td>\n",
       "      <td>500</td>\n",
       "      <td>False</td>\n",
       "      <td>0.780386</td>\n",
       "    </tr>\n",
       "    <tr>\n",
       "      <th>6</th>\n",
       "      <td>Last letter and last 3 letters</td>\n",
       "      <td>Decision Tree</td>\n",
       "      <td>500</td>\n",
       "      <td>False</td>\n",
       "      <td>0.671803</td>\n",
       "    </tr>\n",
       "    <tr>\n",
       "      <th>7</th>\n",
       "      <td>First letter, first 2 letters, last letter, an...</td>\n",
       "      <td>Decision Tree</td>\n",
       "      <td>500</td>\n",
       "      <td>False</td>\n",
       "      <td>0.652074</td>\n",
       "    </tr>\n",
       "    <tr>\n",
       "      <th>8</th>\n",
       "      <td>Combinations of 2 letters, first 2 letters, an...</td>\n",
       "      <td>Decision Tree</td>\n",
       "      <td>500</td>\n",
       "      <td>False</td>\n",
       "      <td>0.663594</td>\n",
       "    </tr>\n",
       "  </tbody>\n",
       "</table>\n",
       "</div>"
      ],
      "text/plain": [
       "                                            Approach     Model Type  \\\n",
       "0                  Last Letter Only (from NLTK book)    Naive Bayes   \n",
       "1             First and Last Letter (from NLTK book)    Naive Bayes   \n",
       "2                              First and Last Letter    Naive Bayes   \n",
       "3                              First and Last Letter    Naive Bayes   \n",
       "4                       Sets of two adjacent letters    Naive Bayes   \n",
       "5                     Last letter and last 3 letters    Naive Bayes   \n",
       "6                     Last letter and last 3 letters  Decision Tree   \n",
       "7  First letter, first 2 letters, last letter, an...  Decision Tree   \n",
       "8  Combinations of 2 letters, first 2 letters, an...  Decision Tree   \n",
       "\n",
       "   Train Size  Training split 50-50  Test Set Score  \n",
       "0         500                 False        0.762000  \n",
       "1         500                 False        0.777000  \n",
       "2         500                  True        0.767000  \n",
       "3        2000                  True        0.769838  \n",
       "4        2000                  True        0.724467  \n",
       "5         500                 False        0.780386  \n",
       "6         500                 False        0.671803  \n",
       "7         500                 False        0.652074  \n",
       "8         500                 False        0.663594  "
      ]
     },
     "execution_count": 53,
     "metadata": {},
     "output_type": "execute_result"
    }
   ],
   "source": [
    "df1.loc[len(df1.index)] = ['Combinations of 2 letters, first 2 letters, and last 3 letters',\n",
    "                           \"Decision Tree\",\n",
    "                           500 , False, nltk.classify.accuracy(classifier, test_set)]\n",
    "df1"
   ]
  },
  {
   "cell_type": "markdown",
   "id": "e8dd01d5",
   "metadata": {},
   "source": [
    "### Hypothesis 7:\n",
    "##### Decision Tree Approach using combinations of two letters, the last three letters, and the first two letters with larger normalized training set"
   ]
  },
  {
   "cell_type": "code",
   "execution_count": 54,
   "id": "7e755c7a",
   "metadata": {},
   "outputs": [],
   "source": [
    "def gender_features_EachTwoLetters_LastThree_FirstTwo(name):\n",
    "    alphabet = 'abcdefghijklmnopqrstuvwxyz'\n",
    "    features = {}\n",
    "    for letter1 in alphabet:\n",
    "        for letter2 in alphabet:\n",
    "            tempTwoLetters = letter1 + letter2\n",
    "            features[\"has({})\".format(tempTwoLetters)] = (tempTwoLetters in name.lower())\n",
    "    features['suffix3']= name[-3:]\n",
    "    features[\"firstTwoLetters\"] =  name[:2]\n",
    "    return features"
   ]
  },
  {
   "cell_type": "code",
   "execution_count": 55,
   "id": "78b3a2c1",
   "metadata": {},
   "outputs": [],
   "source": [
    "featuresets = [(gender_features_EachTwoLetters_LastThree_FirstTwo(n), gender) for (n, gender) in newlyOrderedLabeled_names]\n",
    "\n",
    "# Split the dataset into train and test set.\n",
    "train_set, devtest_set,  test_set = featuresets[:trainingSize],\\\n",
    "featuresets[trainingSize:trainingSize+500],\\\n",
    "featuresets[trainingSize+500:] #trainingSize set to 2000 earlier\n",
    "\n",
    "# Train a Decision Tree classifier\n",
    "classifier = nltk.DecisionTreeClassifier.train(train_set)"
   ]
  },
  {
   "cell_type": "code",
   "execution_count": 56,
   "id": "5e5465e6",
   "metadata": {},
   "outputs": [
    {
     "name": "stdout",
     "output_type": "stream",
     "text": [
      "dev test set: 0.716\n",
      "test set: 0.7191403379867745\n"
     ]
    }
   ],
   "source": [
    "print(\"dev test set:\",nltk.classify.accuracy(classifier, devtest_set))\n",
    "print(\"test set:\",nltk.classify.accuracy(classifier, test_set))"
   ]
  },
  {
   "cell_type": "markdown",
   "id": "640523b0",
   "metadata": {},
   "source": [
    "##### I think it's a good thing that the dev test set and the test set have similar scores.  I believe it means the model isn't overfitted."
   ]
  },
  {
   "cell_type": "code",
   "execution_count": 57,
   "id": "6180ac7b",
   "metadata": {},
   "outputs": [
    {
     "name": "stdout",
     "output_type": "stream",
     "text": [
      "if suffix3 == 'Ace': return 'male'\n",
      "if suffix3 == 'ace': return 'male'\n",
      "if suffix3 == 'aco': return 'male'\n",
      "if suffix3 == 'acy': return 'female'\n",
      "if suffix3 == 'ada': return 'female'\n",
      "if suffix3 == 'ade': return 'male'\n",
      "if suffix3 == 'adi': return 'female'\n",
      "if suffix3 == 'afa': return 'male'\n",
      "if suffix3 == 'age': return 'male'\n",
      "if suffix3 == 'aid': return 'female'\n",
      "if suffix3 == 'aig': return 'male'\n",
      "if suffix3 == 'ail': \n",
      "  if has(mi) == False: return 'female'\n",
      "  if has(mi) == True: return 'male'\n",
      "if suffix3 == 'ain': return 'male'\n",
      "if suffix3 == 'air': \n",
      "  if has(ma) == False: return 'male'\n",
      "  if has(ma) == True: return 'female'\n",
      "if suffix3 == 'ake': return 'male'\n",
      "if suffix3 == 'ako': return 'female'\n",
      "if suffix3 == 'ala': return 'female'\n",
      "if suffix3 == 'ald': return 'male'\n",
      " ...\n"
     ]
    }
   ],
   "source": [
    "print(classifier.pseudocode(depth=4)[:766], \"...\")"
   ]
  },
  {
   "cell_type": "code",
   "execution_count": 58,
   "id": "d1f251d7",
   "metadata": {},
   "outputs": [
    {
     "data": {
      "text/html": [
       "<div>\n",
       "<style scoped>\n",
       "    .dataframe tbody tr th:only-of-type {\n",
       "        vertical-align: middle;\n",
       "    }\n",
       "\n",
       "    .dataframe tbody tr th {\n",
       "        vertical-align: top;\n",
       "    }\n",
       "\n",
       "    .dataframe thead th {\n",
       "        text-align: right;\n",
       "    }\n",
       "</style>\n",
       "<table border=\"1\" class=\"dataframe\">\n",
       "  <thead>\n",
       "    <tr style=\"text-align: right;\">\n",
       "      <th></th>\n",
       "      <th>Approach</th>\n",
       "      <th>Model Type</th>\n",
       "      <th>Train Size</th>\n",
       "      <th>Training split 50-50</th>\n",
       "      <th>Test Set Score</th>\n",
       "    </tr>\n",
       "  </thead>\n",
       "  <tbody>\n",
       "    <tr>\n",
       "      <th>0</th>\n",
       "      <td>Last Letter Only (from NLTK book)</td>\n",
       "      <td>Naive Bayes</td>\n",
       "      <td>500</td>\n",
       "      <td>False</td>\n",
       "      <td>0.762000</td>\n",
       "    </tr>\n",
       "    <tr>\n",
       "      <th>1</th>\n",
       "      <td>First and Last Letter (from NLTK book)</td>\n",
       "      <td>Naive Bayes</td>\n",
       "      <td>500</td>\n",
       "      <td>False</td>\n",
       "      <td>0.777000</td>\n",
       "    </tr>\n",
       "    <tr>\n",
       "      <th>2</th>\n",
       "      <td>First and Last Letter</td>\n",
       "      <td>Naive Bayes</td>\n",
       "      <td>500</td>\n",
       "      <td>True</td>\n",
       "      <td>0.767000</td>\n",
       "    </tr>\n",
       "    <tr>\n",
       "      <th>3</th>\n",
       "      <td>First and Last Letter</td>\n",
       "      <td>Naive Bayes</td>\n",
       "      <td>2000</td>\n",
       "      <td>True</td>\n",
       "      <td>0.769838</td>\n",
       "    </tr>\n",
       "    <tr>\n",
       "      <th>4</th>\n",
       "      <td>Sets of two adjacent letters</td>\n",
       "      <td>Naive Bayes</td>\n",
       "      <td>2000</td>\n",
       "      <td>True</td>\n",
       "      <td>0.724467</td>\n",
       "    </tr>\n",
       "    <tr>\n",
       "      <th>5</th>\n",
       "      <td>Last letter and last 3 letters</td>\n",
       "      <td>Naive Bayes</td>\n",
       "      <td>500</td>\n",
       "      <td>False</td>\n",
       "      <td>0.780386</td>\n",
       "    </tr>\n",
       "    <tr>\n",
       "      <th>6</th>\n",
       "      <td>Last letter and last 3 letters</td>\n",
       "      <td>Decision Tree</td>\n",
       "      <td>500</td>\n",
       "      <td>False</td>\n",
       "      <td>0.671803</td>\n",
       "    </tr>\n",
       "    <tr>\n",
       "      <th>7</th>\n",
       "      <td>First letter, first 2 letters, last letter, an...</td>\n",
       "      <td>Decision Tree</td>\n",
       "      <td>500</td>\n",
       "      <td>False</td>\n",
       "      <td>0.652074</td>\n",
       "    </tr>\n",
       "    <tr>\n",
       "      <th>8</th>\n",
       "      <td>Combinations of 2 letters, first 2 letters, an...</td>\n",
       "      <td>Decision Tree</td>\n",
       "      <td>500</td>\n",
       "      <td>False</td>\n",
       "      <td>0.663594</td>\n",
       "    </tr>\n",
       "    <tr>\n",
       "      <th>9</th>\n",
       "      <td>Combinations of 2 letters, first 2 letters, an...</td>\n",
       "      <td>Decision Tree</td>\n",
       "      <td>2000</td>\n",
       "      <td>True</td>\n",
       "      <td>0.719140</td>\n",
       "    </tr>\n",
       "  </tbody>\n",
       "</table>\n",
       "</div>"
      ],
      "text/plain": [
       "                                            Approach     Model Type  \\\n",
       "0                  Last Letter Only (from NLTK book)    Naive Bayes   \n",
       "1             First and Last Letter (from NLTK book)    Naive Bayes   \n",
       "2                              First and Last Letter    Naive Bayes   \n",
       "3                              First and Last Letter    Naive Bayes   \n",
       "4                       Sets of two adjacent letters    Naive Bayes   \n",
       "5                     Last letter and last 3 letters    Naive Bayes   \n",
       "6                     Last letter and last 3 letters  Decision Tree   \n",
       "7  First letter, first 2 letters, last letter, an...  Decision Tree   \n",
       "8  Combinations of 2 letters, first 2 letters, an...  Decision Tree   \n",
       "9  Combinations of 2 letters, first 2 letters, an...  Decision Tree   \n",
       "\n",
       "   Train Size  Training split 50-50  Test Set Score  \n",
       "0         500                 False        0.762000  \n",
       "1         500                 False        0.777000  \n",
       "2         500                  True        0.767000  \n",
       "3        2000                  True        0.769838  \n",
       "4        2000                  True        0.724467  \n",
       "5         500                 False        0.780386  \n",
       "6         500                 False        0.671803  \n",
       "7         500                 False        0.652074  \n",
       "8         500                 False        0.663594  \n",
       "9        2000                  True        0.719140  "
      ]
     },
     "execution_count": 58,
     "metadata": {},
     "output_type": "execute_result"
    }
   ],
   "source": [
    "df1.loc[len(df1.index)] = ['Combinations of 2 letters, first 2 letters, and last 3 letters',\n",
    "                           \"Decision Tree\",\n",
    "                           trainingSize , True, nltk.classify.accuracy(classifier, test_set)]\n",
    "df1"
   ]
  },
  {
   "cell_type": "markdown",
   "id": "e55f968d",
   "metadata": {},
   "source": [
    "Normalizing the training data and increasing its size slightly increased the score "
   ]
  },
  {
   "cell_type": "markdown",
   "id": "110fd337",
   "metadata": {},
   "source": [
    "### Hypothesis 8:\n",
    "##### Decision Tree Approach using combinations of two letters, the last three letters, and the first two letters, and the first vowel with larger normalized training set"
   ]
  },
  {
   "cell_type": "code",
   "execution_count": 59,
   "id": "4694396e",
   "metadata": {},
   "outputs": [],
   "source": [
    "def gender_features_EachTwoLetters_LastThree_FirstTwo_FirstVowel(name):\n",
    "    alphabet = 'abcdefghijklmnopqrstuvwxyz'\n",
    "    features = {}\n",
    "    for letter1 in alphabet:\n",
    "        for letter2 in alphabet:\n",
    "            tempTwoLetters = letter1 + letter2\n",
    "            features[\"has({})\".format(tempTwoLetters)] = (tempTwoLetters in name.lower())\n",
    "    features['suffix3']= name[-3:]\n",
    "    features[\"firstTwoLetters\"] =  name[:2]\n",
    "    try:\n",
    "        features[\"firstVowel\"] = re.findall(\"[aeiou]\", name.lower())[0]\n",
    "    except:\n",
    "        features[\"firstVowel\"] = \"NoVowel\"\n",
    "    return features"
   ]
  },
  {
   "cell_type": "code",
   "execution_count": 60,
   "id": "00c436cd",
   "metadata": {},
   "outputs": [],
   "source": [
    "featuresets = [(gender_features_EachTwoLetters_LastThree_FirstTwo_FirstVowel(n), gender) for (n, gender) in newlyOrderedLabeled_names]\n",
    "\n",
    "# Split the dataset into train and test set.\n",
    "train_set, devtest_set,  test_set = featuresets[:trainingSize],\\\n",
    "featuresets[trainingSize:trainingSize+500],\\\n",
    "featuresets[trainingSize+500:] #trainingSize set to 2000 earlier\n",
    "\n",
    "# Train a Decision Tree classifier\n",
    "classifier = nltk.DecisionTreeClassifier.train(train_set)"
   ]
  },
  {
   "cell_type": "code",
   "execution_count": 61,
   "id": "2fde98f9",
   "metadata": {},
   "outputs": [
    {
     "name": "stdout",
     "output_type": "stream",
     "text": [
      "dev test set: 0.716\n",
      "test set: 0.7191403379867745\n"
     ]
    }
   ],
   "source": [
    "print(\"dev test set:\",nltk.classify.accuracy(classifier, devtest_set))\n",
    "print(\"test set:\",nltk.classify.accuracy(classifier, test_set))"
   ]
  },
  {
   "cell_type": "code",
   "execution_count": 62,
   "id": "5ac53abb",
   "metadata": {},
   "outputs": [
    {
     "name": "stdout",
     "output_type": "stream",
     "text": [
      "ffix3 == 'lus': return 'male'\n",
      "if suffix3 == 'lva': return 'female'\n",
      "if suffix3 == 'lya': return 'female'\n",
      "if suffix3 == 'lyn': return 'female'\n",
      "if suffix3 == 'Lyn': return 'male'\n",
      "if suffix3 == 'lyt': return 'female'\n",
      "if suffix3 == 'Mab': return 'female'\n",
      "if suffix3 == 'Mag': return 'female'\n",
      "if suffix3 == 'mah': return 'female'\n",
      "if suffix3 == 'man': return 'male'\n",
      "if suffix3 == 'mar': return 'male'\n",
      "if suffix3 == 'Max': return 'female'\n",
      "if suffix3 == 'mbi': return 'female'\n",
      "if suffix3 == 'mel': return 'male'\n",
      "if suffix3 == 'meo': \n",
      "  if firstVowel == 'a': return 'female'\n",
      "  if firstVowel == 'o': return 'male'\n",
      "if suffix3 == 'mer': return 'male'\n",
      "if suffix3 == 'mes': return 'male'\n",
      "if suffix3 == 'met': return 'male'\n",
      "if suffix3 == 'mew': return 'male'\n",
      " ...\n"
     ]
    }
   ],
   "source": [
    "print(classifier.pseudocode(depth=4)[25024:25767], \"...\")"
   ]
  },
  {
   "cell_type": "code",
   "execution_count": null,
   "id": "42db75ee",
   "metadata": {},
   "outputs": [],
   "source": []
  },
  {
   "cell_type": "code",
   "execution_count": 63,
   "id": "db5653e3",
   "metadata": {},
   "outputs": [
    {
     "data": {
      "text/html": [
       "<div>\n",
       "<style scoped>\n",
       "    .dataframe tbody tr th:only-of-type {\n",
       "        vertical-align: middle;\n",
       "    }\n",
       "\n",
       "    .dataframe tbody tr th {\n",
       "        vertical-align: top;\n",
       "    }\n",
       "\n",
       "    .dataframe thead th {\n",
       "        text-align: right;\n",
       "    }\n",
       "</style>\n",
       "<table border=\"1\" class=\"dataframe\">\n",
       "  <thead>\n",
       "    <tr style=\"text-align: right;\">\n",
       "      <th></th>\n",
       "      <th>Approach</th>\n",
       "      <th>Model Type</th>\n",
       "      <th>Train Size</th>\n",
       "      <th>Training split 50-50</th>\n",
       "      <th>Test Set Score</th>\n",
       "    </tr>\n",
       "  </thead>\n",
       "  <tbody>\n",
       "    <tr>\n",
       "      <th>0</th>\n",
       "      <td>Last Letter Only (from NLTK book)</td>\n",
       "      <td>Naive Bayes</td>\n",
       "      <td>500</td>\n",
       "      <td>False</td>\n",
       "      <td>0.762000</td>\n",
       "    </tr>\n",
       "    <tr>\n",
       "      <th>1</th>\n",
       "      <td>First and Last Letter (from NLTK book)</td>\n",
       "      <td>Naive Bayes</td>\n",
       "      <td>500</td>\n",
       "      <td>False</td>\n",
       "      <td>0.777000</td>\n",
       "    </tr>\n",
       "    <tr>\n",
       "      <th>2</th>\n",
       "      <td>First and Last Letter</td>\n",
       "      <td>Naive Bayes</td>\n",
       "      <td>500</td>\n",
       "      <td>True</td>\n",
       "      <td>0.767000</td>\n",
       "    </tr>\n",
       "    <tr>\n",
       "      <th>3</th>\n",
       "      <td>First and Last Letter</td>\n",
       "      <td>Naive Bayes</td>\n",
       "      <td>2000</td>\n",
       "      <td>True</td>\n",
       "      <td>0.769838</td>\n",
       "    </tr>\n",
       "    <tr>\n",
       "      <th>4</th>\n",
       "      <td>Sets of two adjacent letters</td>\n",
       "      <td>Naive Bayes</td>\n",
       "      <td>2000</td>\n",
       "      <td>True</td>\n",
       "      <td>0.724467</td>\n",
       "    </tr>\n",
       "    <tr>\n",
       "      <th>5</th>\n",
       "      <td>Last letter and last 3 letters</td>\n",
       "      <td>Naive Bayes</td>\n",
       "      <td>500</td>\n",
       "      <td>False</td>\n",
       "      <td>0.780386</td>\n",
       "    </tr>\n",
       "    <tr>\n",
       "      <th>6</th>\n",
       "      <td>Last letter and last 3 letters</td>\n",
       "      <td>Decision Tree</td>\n",
       "      <td>500</td>\n",
       "      <td>False</td>\n",
       "      <td>0.671803</td>\n",
       "    </tr>\n",
       "    <tr>\n",
       "      <th>7</th>\n",
       "      <td>First letter, first 2 letters, last letter, an...</td>\n",
       "      <td>Decision Tree</td>\n",
       "      <td>500</td>\n",
       "      <td>False</td>\n",
       "      <td>0.652074</td>\n",
       "    </tr>\n",
       "    <tr>\n",
       "      <th>8</th>\n",
       "      <td>Combinations of 2 letters, first 2 letters, an...</td>\n",
       "      <td>Decision Tree</td>\n",
       "      <td>500</td>\n",
       "      <td>False</td>\n",
       "      <td>0.663594</td>\n",
       "    </tr>\n",
       "    <tr>\n",
       "      <th>9</th>\n",
       "      <td>Combinations of 2 letters, first 2 letters, an...</td>\n",
       "      <td>Decision Tree</td>\n",
       "      <td>2000</td>\n",
       "      <td>True</td>\n",
       "      <td>0.719140</td>\n",
       "    </tr>\n",
       "    <tr>\n",
       "      <th>10</th>\n",
       "      <td>Combinations of 2 letters, first vowel, first ...</td>\n",
       "      <td>Decision Tree</td>\n",
       "      <td>2000</td>\n",
       "      <td>True</td>\n",
       "      <td>0.719140</td>\n",
       "    </tr>\n",
       "  </tbody>\n",
       "</table>\n",
       "</div>"
      ],
      "text/plain": [
       "                                             Approach     Model Type  \\\n",
       "0                   Last Letter Only (from NLTK book)    Naive Bayes   \n",
       "1              First and Last Letter (from NLTK book)    Naive Bayes   \n",
       "2                               First and Last Letter    Naive Bayes   \n",
       "3                               First and Last Letter    Naive Bayes   \n",
       "4                        Sets of two adjacent letters    Naive Bayes   \n",
       "5                      Last letter and last 3 letters    Naive Bayes   \n",
       "6                      Last letter and last 3 letters  Decision Tree   \n",
       "7   First letter, first 2 letters, last letter, an...  Decision Tree   \n",
       "8   Combinations of 2 letters, first 2 letters, an...  Decision Tree   \n",
       "9   Combinations of 2 letters, first 2 letters, an...  Decision Tree   \n",
       "10  Combinations of 2 letters, first vowel, first ...  Decision Tree   \n",
       "\n",
       "    Train Size  Training split 50-50  Test Set Score  \n",
       "0          500                 False        0.762000  \n",
       "1          500                 False        0.777000  \n",
       "2          500                  True        0.767000  \n",
       "3         2000                  True        0.769838  \n",
       "4         2000                  True        0.724467  \n",
       "5          500                 False        0.780386  \n",
       "6          500                 False        0.671803  \n",
       "7          500                 False        0.652074  \n",
       "8          500                 False        0.663594  \n",
       "9         2000                  True        0.719140  \n",
       "10        2000                  True        0.719140  "
      ]
     },
     "execution_count": 63,
     "metadata": {},
     "output_type": "execute_result"
    }
   ],
   "source": [
    "df1.loc[len(df1.index)] = ['Combinations of 2 letters, first vowel, first 2 letters, and last 3 letters',\n",
    "                           \"Decision Tree\",\n",
    "                           trainingSize , True, nltk.classify.accuracy(classifier, test_set)]\n",
    "df1"
   ]
  },
  {
   "cell_type": "code",
   "execution_count": null,
   "id": "e171e160",
   "metadata": {},
   "outputs": [],
   "source": []
  },
  {
   "cell_type": "markdown",
   "id": "85f71e1c",
   "metadata": {},
   "source": [
    "### Hypothesis 9:\n",
    "##### Naive Bayes Approach using combinations of two letters, the last three letters, and the first two letters, and the first vowel with larger normalized training set"
   ]
  },
  {
   "cell_type": "code",
   "execution_count": 64,
   "id": "b66f54c4",
   "metadata": {},
   "outputs": [],
   "source": [
    "featuresets = [(gender_features_EachTwoLetters_LastThree_FirstTwo_FirstVowel(n), gender) for (n, gender) in newlyOrderedLabeled_names]\n",
    "\n",
    "# Split the dataset into train and test set.\n",
    "train_set, devtest_set,  test_set = featuresets[:trainingSize],\\\n",
    "featuresets[trainingSize:trainingSize+500],\\\n",
    "featuresets[trainingSize+500:] #trainingSize set to 2000 earlier\n",
    "\n",
    "# Train a Naive Bayes classifier\n",
    "classifier = nltk.NaiveBayesClassifier.train(train_set)"
   ]
  },
  {
   "cell_type": "code",
   "execution_count": 65,
   "id": "c14993ec",
   "metadata": {},
   "outputs": [
    {
     "name": "stdout",
     "output_type": "stream",
     "text": [
      "dev test set: 0.784\n",
      "test set: 0.7718589272593681\n"
     ]
    }
   ],
   "source": [
    "print(\"dev test set:\",nltk.classify.accuracy(classifier, devtest_set))\n",
    "print(\"test set:\",nltk.classify.accuracy(classifier, test_set))"
   ]
  },
  {
   "cell_type": "code",
   "execution_count": 66,
   "id": "ed0aaf99",
   "metadata": {},
   "outputs": [
    {
     "data": {
      "text/html": [
       "<div>\n",
       "<style scoped>\n",
       "    .dataframe tbody tr th:only-of-type {\n",
       "        vertical-align: middle;\n",
       "    }\n",
       "\n",
       "    .dataframe tbody tr th {\n",
       "        vertical-align: top;\n",
       "    }\n",
       "\n",
       "    .dataframe thead th {\n",
       "        text-align: right;\n",
       "    }\n",
       "</style>\n",
       "<table border=\"1\" class=\"dataframe\">\n",
       "  <thead>\n",
       "    <tr style=\"text-align: right;\">\n",
       "      <th></th>\n",
       "      <th>Approach</th>\n",
       "      <th>Model Type</th>\n",
       "      <th>Train Size</th>\n",
       "      <th>Training split 50-50</th>\n",
       "      <th>Test Set Score</th>\n",
       "    </tr>\n",
       "  </thead>\n",
       "  <tbody>\n",
       "    <tr>\n",
       "      <th>0</th>\n",
       "      <td>Last Letter Only (from NLTK book)</td>\n",
       "      <td>Naive Bayes</td>\n",
       "      <td>500</td>\n",
       "      <td>False</td>\n",
       "      <td>0.762000</td>\n",
       "    </tr>\n",
       "    <tr>\n",
       "      <th>1</th>\n",
       "      <td>First and Last Letter (from NLTK book)</td>\n",
       "      <td>Naive Bayes</td>\n",
       "      <td>500</td>\n",
       "      <td>False</td>\n",
       "      <td>0.777000</td>\n",
       "    </tr>\n",
       "    <tr>\n",
       "      <th>2</th>\n",
       "      <td>First and Last Letter</td>\n",
       "      <td>Naive Bayes</td>\n",
       "      <td>500</td>\n",
       "      <td>True</td>\n",
       "      <td>0.767000</td>\n",
       "    </tr>\n",
       "    <tr>\n",
       "      <th>3</th>\n",
       "      <td>First and Last Letter</td>\n",
       "      <td>Naive Bayes</td>\n",
       "      <td>2000</td>\n",
       "      <td>True</td>\n",
       "      <td>0.769838</td>\n",
       "    </tr>\n",
       "    <tr>\n",
       "      <th>4</th>\n",
       "      <td>Sets of two adjacent letters</td>\n",
       "      <td>Naive Bayes</td>\n",
       "      <td>2000</td>\n",
       "      <td>True</td>\n",
       "      <td>0.724467</td>\n",
       "    </tr>\n",
       "    <tr>\n",
       "      <th>5</th>\n",
       "      <td>Last letter and last 3 letters</td>\n",
       "      <td>Naive Bayes</td>\n",
       "      <td>500</td>\n",
       "      <td>False</td>\n",
       "      <td>0.780386</td>\n",
       "    </tr>\n",
       "    <tr>\n",
       "      <th>6</th>\n",
       "      <td>Last letter and last 3 letters</td>\n",
       "      <td>Decision Tree</td>\n",
       "      <td>500</td>\n",
       "      <td>False</td>\n",
       "      <td>0.671803</td>\n",
       "    </tr>\n",
       "    <tr>\n",
       "      <th>7</th>\n",
       "      <td>First letter, first 2 letters, last letter, an...</td>\n",
       "      <td>Decision Tree</td>\n",
       "      <td>500</td>\n",
       "      <td>False</td>\n",
       "      <td>0.652074</td>\n",
       "    </tr>\n",
       "    <tr>\n",
       "      <th>8</th>\n",
       "      <td>Combinations of 2 letters, first 2 letters, an...</td>\n",
       "      <td>Decision Tree</td>\n",
       "      <td>500</td>\n",
       "      <td>False</td>\n",
       "      <td>0.663594</td>\n",
       "    </tr>\n",
       "    <tr>\n",
       "      <th>9</th>\n",
       "      <td>Combinations of 2 letters, first 2 letters, an...</td>\n",
       "      <td>Decision Tree</td>\n",
       "      <td>2000</td>\n",
       "      <td>True</td>\n",
       "      <td>0.719140</td>\n",
       "    </tr>\n",
       "    <tr>\n",
       "      <th>10</th>\n",
       "      <td>Combinations of 2 letters, first vowel, first ...</td>\n",
       "      <td>Decision Tree</td>\n",
       "      <td>2000</td>\n",
       "      <td>True</td>\n",
       "      <td>0.719140</td>\n",
       "    </tr>\n",
       "    <tr>\n",
       "      <th>11</th>\n",
       "      <td>Combinations of 2 letters, first vowel, first ...</td>\n",
       "      <td>Naive Bayes</td>\n",
       "      <td>2000</td>\n",
       "      <td>True</td>\n",
       "      <td>0.771859</td>\n",
       "    </tr>\n",
       "  </tbody>\n",
       "</table>\n",
       "</div>"
      ],
      "text/plain": [
       "                                             Approach     Model Type  \\\n",
       "0                   Last Letter Only (from NLTK book)    Naive Bayes   \n",
       "1              First and Last Letter (from NLTK book)    Naive Bayes   \n",
       "2                               First and Last Letter    Naive Bayes   \n",
       "3                               First and Last Letter    Naive Bayes   \n",
       "4                        Sets of two adjacent letters    Naive Bayes   \n",
       "5                      Last letter and last 3 letters    Naive Bayes   \n",
       "6                      Last letter and last 3 letters  Decision Tree   \n",
       "7   First letter, first 2 letters, last letter, an...  Decision Tree   \n",
       "8   Combinations of 2 letters, first 2 letters, an...  Decision Tree   \n",
       "9   Combinations of 2 letters, first 2 letters, an...  Decision Tree   \n",
       "10  Combinations of 2 letters, first vowel, first ...  Decision Tree   \n",
       "11  Combinations of 2 letters, first vowel, first ...    Naive Bayes   \n",
       "\n",
       "    Train Size  Training split 50-50  Test Set Score  \n",
       "0          500                 False        0.762000  \n",
       "1          500                 False        0.777000  \n",
       "2          500                  True        0.767000  \n",
       "3         2000                  True        0.769838  \n",
       "4         2000                  True        0.724467  \n",
       "5          500                 False        0.780386  \n",
       "6          500                 False        0.671803  \n",
       "7          500                 False        0.652074  \n",
       "8          500                 False        0.663594  \n",
       "9         2000                  True        0.719140  \n",
       "10        2000                  True        0.719140  \n",
       "11        2000                  True        0.771859  "
      ]
     },
     "execution_count": 66,
     "metadata": {},
     "output_type": "execute_result"
    }
   ],
   "source": [
    "df1.loc[len(df1.index)] = ['Combinations of 2 letters, first vowel, first 2 letters, and last 3 letters',\n",
    "                           \"Naive Bayes\",\n",
    "                           trainingSize , True, nltk.classify.accuracy(classifier, test_set)]\n",
    "df1"
   ]
  },
  {
   "cell_type": "code",
   "execution_count": null,
   "id": "fe12a490",
   "metadata": {},
   "outputs": [],
   "source": []
  },
  {
   "cell_type": "markdown",
   "id": "0d80281f",
   "metadata": {},
   "source": [
    "### Hypothesis 10:\n",
    "##### Going off our best strategy so far, a Naive Bayes Approach using the last three letters,  the first letter, and the first vowel with larger normalized training set"
   ]
  },
  {
   "cell_type": "code",
   "execution_count": 67,
   "id": "052b2dc9",
   "metadata": {},
   "outputs": [],
   "source": [
    "def gender_features_last3_first1_firstVowel(name):\n",
    "    features = {}\n",
    "    features['firstLetter']= name.lower()[0],\n",
    "    features['suffix3']= name.lower()[-3:],\n",
    "    try:\n",
    "        features[\"firstVowel\"] = re.findall(\"[aeiou]\", name.lower())[0]\n",
    "    except:\n",
    "        features[\"firstVowel\"] = \"NoVowel\"       \n",
    "    return features"
   ]
  },
  {
   "cell_type": "code",
   "execution_count": 68,
   "id": "802411c4",
   "metadata": {},
   "outputs": [
    {
     "data": {
      "text/plain": [
       "{'firstLetter': ('b',), 'suffix3': ('son',), 'firstVowel': 'e'}"
      ]
     },
     "execution_count": 68,
     "metadata": {},
     "output_type": "execute_result"
    }
   ],
   "source": [
    "gender_features_last3_first1_firstVowel(\"Benson\")"
   ]
  },
  {
   "cell_type": "code",
   "execution_count": 69,
   "id": "7a50d0c0",
   "metadata": {},
   "outputs": [],
   "source": [
    "featuresets = [(gender_features_last3_first1_firstVowel(n), gender) for (n, gender) in newlyOrderedLabeled_names]\n",
    "\n",
    "# Split the dataset into train and test set.\n",
    "train_set, devtest_set,  test_set = featuresets[:trainingSize],\\\n",
    "featuresets[trainingSize:trainingSize+500],\\\n",
    "featuresets[trainingSize+500:] #trainingSize set to 2000 earlier\n",
    "\n",
    "# Train a Naive Bayes classifier\n",
    "classifier = nltk.NaiveBayesClassifier.train(train_set)"
   ]
  },
  {
   "cell_type": "code",
   "execution_count": 70,
   "id": "4d1a3477",
   "metadata": {},
   "outputs": [
    {
     "name": "stdout",
     "output_type": "stream",
     "text": [
      "dev test set: 0.754\n",
      "test set: 0.7593681116825863\n"
     ]
    }
   ],
   "source": [
    "print(\"dev test set:\",nltk.classify.accuracy(classifier, devtest_set))\n",
    "print(\"test set:\",nltk.classify.accuracy(classifier, test_set))"
   ]
  },
  {
   "cell_type": "code",
   "execution_count": 71,
   "id": "33debe09",
   "metadata": {},
   "outputs": [
    {
     "data": {
      "text/html": [
       "<div>\n",
       "<style scoped>\n",
       "    .dataframe tbody tr th:only-of-type {\n",
       "        vertical-align: middle;\n",
       "    }\n",
       "\n",
       "    .dataframe tbody tr th {\n",
       "        vertical-align: top;\n",
       "    }\n",
       "\n",
       "    .dataframe thead th {\n",
       "        text-align: right;\n",
       "    }\n",
       "</style>\n",
       "<table border=\"1\" class=\"dataframe\">\n",
       "  <thead>\n",
       "    <tr style=\"text-align: right;\">\n",
       "      <th></th>\n",
       "      <th>Approach</th>\n",
       "      <th>Model Type</th>\n",
       "      <th>Train Size</th>\n",
       "      <th>Training split 50-50</th>\n",
       "      <th>Test Set Score</th>\n",
       "    </tr>\n",
       "  </thead>\n",
       "  <tbody>\n",
       "    <tr>\n",
       "      <th>0</th>\n",
       "      <td>Last Letter Only (from NLTK book)</td>\n",
       "      <td>Naive Bayes</td>\n",
       "      <td>500</td>\n",
       "      <td>False</td>\n",
       "      <td>0.762000</td>\n",
       "    </tr>\n",
       "    <tr>\n",
       "      <th>1</th>\n",
       "      <td>First and Last Letter (from NLTK book)</td>\n",
       "      <td>Naive Bayes</td>\n",
       "      <td>500</td>\n",
       "      <td>False</td>\n",
       "      <td>0.777000</td>\n",
       "    </tr>\n",
       "    <tr>\n",
       "      <th>2</th>\n",
       "      <td>First and Last Letter</td>\n",
       "      <td>Naive Bayes</td>\n",
       "      <td>500</td>\n",
       "      <td>True</td>\n",
       "      <td>0.767000</td>\n",
       "    </tr>\n",
       "    <tr>\n",
       "      <th>3</th>\n",
       "      <td>First and Last Letter</td>\n",
       "      <td>Naive Bayes</td>\n",
       "      <td>2000</td>\n",
       "      <td>True</td>\n",
       "      <td>0.769838</td>\n",
       "    </tr>\n",
       "    <tr>\n",
       "      <th>4</th>\n",
       "      <td>Sets of two adjacent letters</td>\n",
       "      <td>Naive Bayes</td>\n",
       "      <td>2000</td>\n",
       "      <td>True</td>\n",
       "      <td>0.724467</td>\n",
       "    </tr>\n",
       "    <tr>\n",
       "      <th>5</th>\n",
       "      <td>Last letter and last 3 letters</td>\n",
       "      <td>Naive Bayes</td>\n",
       "      <td>500</td>\n",
       "      <td>False</td>\n",
       "      <td>0.780386</td>\n",
       "    </tr>\n",
       "    <tr>\n",
       "      <th>6</th>\n",
       "      <td>Last letter and last 3 letters</td>\n",
       "      <td>Decision Tree</td>\n",
       "      <td>500</td>\n",
       "      <td>False</td>\n",
       "      <td>0.671803</td>\n",
       "    </tr>\n",
       "    <tr>\n",
       "      <th>7</th>\n",
       "      <td>First letter, first 2 letters, last letter, an...</td>\n",
       "      <td>Decision Tree</td>\n",
       "      <td>500</td>\n",
       "      <td>False</td>\n",
       "      <td>0.652074</td>\n",
       "    </tr>\n",
       "    <tr>\n",
       "      <th>8</th>\n",
       "      <td>Combinations of 2 letters, first 2 letters, an...</td>\n",
       "      <td>Decision Tree</td>\n",
       "      <td>500</td>\n",
       "      <td>False</td>\n",
       "      <td>0.663594</td>\n",
       "    </tr>\n",
       "    <tr>\n",
       "      <th>9</th>\n",
       "      <td>Combinations of 2 letters, first 2 letters, an...</td>\n",
       "      <td>Decision Tree</td>\n",
       "      <td>2000</td>\n",
       "      <td>True</td>\n",
       "      <td>0.719140</td>\n",
       "    </tr>\n",
       "    <tr>\n",
       "      <th>10</th>\n",
       "      <td>Combinations of 2 letters, first vowel, first ...</td>\n",
       "      <td>Decision Tree</td>\n",
       "      <td>2000</td>\n",
       "      <td>True</td>\n",
       "      <td>0.719140</td>\n",
       "    </tr>\n",
       "    <tr>\n",
       "      <th>11</th>\n",
       "      <td>Combinations of 2 letters, first vowel, first ...</td>\n",
       "      <td>Naive Bayes</td>\n",
       "      <td>2000</td>\n",
       "      <td>True</td>\n",
       "      <td>0.771859</td>\n",
       "    </tr>\n",
       "    <tr>\n",
       "      <th>12</th>\n",
       "      <td>First vowel, first 1 letter, and last 3 letters</td>\n",
       "      <td>Naive Bayes</td>\n",
       "      <td>2000</td>\n",
       "      <td>True</td>\n",
       "      <td>0.759368</td>\n",
       "    </tr>\n",
       "  </tbody>\n",
       "</table>\n",
       "</div>"
      ],
      "text/plain": [
       "                                             Approach     Model Type  \\\n",
       "0                   Last Letter Only (from NLTK book)    Naive Bayes   \n",
       "1              First and Last Letter (from NLTK book)    Naive Bayes   \n",
       "2                               First and Last Letter    Naive Bayes   \n",
       "3                               First and Last Letter    Naive Bayes   \n",
       "4                        Sets of two adjacent letters    Naive Bayes   \n",
       "5                      Last letter and last 3 letters    Naive Bayes   \n",
       "6                      Last letter and last 3 letters  Decision Tree   \n",
       "7   First letter, first 2 letters, last letter, an...  Decision Tree   \n",
       "8   Combinations of 2 letters, first 2 letters, an...  Decision Tree   \n",
       "9   Combinations of 2 letters, first 2 letters, an...  Decision Tree   \n",
       "10  Combinations of 2 letters, first vowel, first ...  Decision Tree   \n",
       "11  Combinations of 2 letters, first vowel, first ...    Naive Bayes   \n",
       "12    First vowel, first 1 letter, and last 3 letters    Naive Bayes   \n",
       "\n",
       "    Train Size  Training split 50-50  Test Set Score  \n",
       "0          500                 False        0.762000  \n",
       "1          500                 False        0.777000  \n",
       "2          500                  True        0.767000  \n",
       "3         2000                  True        0.769838  \n",
       "4         2000                  True        0.724467  \n",
       "5          500                 False        0.780386  \n",
       "6          500                 False        0.671803  \n",
       "7          500                 False        0.652074  \n",
       "8          500                 False        0.663594  \n",
       "9         2000                  True        0.719140  \n",
       "10        2000                  True        0.719140  \n",
       "11        2000                  True        0.771859  \n",
       "12        2000                  True        0.759368  "
      ]
     },
     "execution_count": 71,
     "metadata": {},
     "output_type": "execute_result"
    }
   ],
   "source": [
    "df1.loc[len(df1.index)] = ['First vowel, first 1 letter, and last 3 letters',\n",
    "                           \"Naive Bayes\",\n",
    "                           trainingSize , True, nltk.classify.accuracy(classifier, test_set)]\n",
    "df1"
   ]
  },
  {
   "cell_type": "markdown",
   "id": "b46eac7c",
   "metadata": {},
   "source": [
    "### Hypothesis 11:\n",
    "##### Decision Approach using the last three letters,  the first letter, and the first vowel with larger normalized training set"
   ]
  },
  {
   "cell_type": "code",
   "execution_count": 72,
   "id": "fcceb47d",
   "metadata": {},
   "outputs": [],
   "source": [
    "featuresets = [(gender_features_last3_first1_firstVowel(n), gender) for (n, gender) in newlyOrderedLabeled_names]\n",
    "\n",
    "# Split the dataset into train and test set.\n",
    "train_set, devtest_set,  test_set = featuresets[:trainingSize],\\\n",
    "featuresets[trainingSize:trainingSize+500],\\\n",
    "featuresets[trainingSize+500:] #trainingSize set to 2000 earlier\n",
    "\n",
    "# Train a Naive Bayes classifier\n",
    "classifier = nltk.DecisionTreeClassifier.train(train_set)"
   ]
  },
  {
   "cell_type": "code",
   "execution_count": 73,
   "id": "c7e14c3f",
   "metadata": {},
   "outputs": [
    {
     "name": "stdout",
     "output_type": "stream",
     "text": [
      "dev test set: 0.728\n",
      "test set: 0.720242468772961\n"
     ]
    }
   ],
   "source": [
    "print(\"dev test set:\",nltk.classify.accuracy(classifier, devtest_set))\n",
    "print(\"test set:\",nltk.classify.accuracy(classifier, test_set))"
   ]
  },
  {
   "cell_type": "code",
   "execution_count": 101,
   "id": "5b693d6c",
   "metadata": {},
   "outputs": [
    {
     "name": "stdout",
     "output_type": "stream",
     "text": [
      "if suffix3 == ('yne',): \n",
      "  if firstLetter == ('a',): return 'female'\n",
      "  if firstLetter == ('b',): return 'male'\n",
      "  if firstLetter == ('c',): return 'female'\n",
      "  if firstLetter == ('j',): return 'female'\n",
      "  if firstLetter == ('k',): return 'female'\n",
      "  if firstLetter == ('t',): return 'male'\n",
      "if suffix3 == ('ynn',): \n",
      "  if firstVowel == 'a': return 'female'\n",
      "  if firstVowel == 'e': return 'female'\n",
      "  if firstVowel == 'NoVowel': return 'male'\n",
      "  if firstVowel == 'o': return 'female'\n",
      "if suffix3 == ('ysa',): return 'female'\n",
      "if suffix3 == ('zan',): return 'male'\n",
      "if suffix3 == ('zar',): return 'male'\n",
      "if suffix3 == ('zea',): return 'female'\n",
      "if suffix3 == ('zer',): return 'male'\n",
      "if suffix3 == ('zia',): return 'female'\n",
      "if suffix3 == ('zie',): return 'female'\n",
      "if suffix3 == ('zio',): return 'male'\n",
      "if suffix3 == ('zsa',): return 'female'\n",
      " ...\n"
     ]
    }
   ],
   "source": [
    "print(classifier.pseudocode(depth=4)[44793:45727], \"...\")"
   ]
  },
  {
   "cell_type": "markdown",
   "id": "995cbb1b",
   "metadata": {},
   "source": [
    "##### I can't think of a male name that ends in 'ynn' that doesn't have a vowel??  Let alone names that end in most of these \"suffixes\""
   ]
  },
  {
   "cell_type": "code",
   "execution_count": 74,
   "id": "444c0812",
   "metadata": {},
   "outputs": [
    {
     "data": {
      "text/html": [
       "<div>\n",
       "<style scoped>\n",
       "    .dataframe tbody tr th:only-of-type {\n",
       "        vertical-align: middle;\n",
       "    }\n",
       "\n",
       "    .dataframe tbody tr th {\n",
       "        vertical-align: top;\n",
       "    }\n",
       "\n",
       "    .dataframe thead th {\n",
       "        text-align: right;\n",
       "    }\n",
       "</style>\n",
       "<table border=\"1\" class=\"dataframe\">\n",
       "  <thead>\n",
       "    <tr style=\"text-align: right;\">\n",
       "      <th></th>\n",
       "      <th>Approach</th>\n",
       "      <th>Model Type</th>\n",
       "      <th>Train Size</th>\n",
       "      <th>Training split 50-50</th>\n",
       "      <th>Test Set Score</th>\n",
       "    </tr>\n",
       "  </thead>\n",
       "  <tbody>\n",
       "    <tr>\n",
       "      <th>0</th>\n",
       "      <td>Last Letter Only (from NLTK book)</td>\n",
       "      <td>Naive Bayes</td>\n",
       "      <td>500</td>\n",
       "      <td>False</td>\n",
       "      <td>0.762000</td>\n",
       "    </tr>\n",
       "    <tr>\n",
       "      <th>1</th>\n",
       "      <td>First and Last Letter (from NLTK book)</td>\n",
       "      <td>Naive Bayes</td>\n",
       "      <td>500</td>\n",
       "      <td>False</td>\n",
       "      <td>0.777000</td>\n",
       "    </tr>\n",
       "    <tr>\n",
       "      <th>2</th>\n",
       "      <td>First and Last Letter</td>\n",
       "      <td>Naive Bayes</td>\n",
       "      <td>500</td>\n",
       "      <td>True</td>\n",
       "      <td>0.767000</td>\n",
       "    </tr>\n",
       "    <tr>\n",
       "      <th>3</th>\n",
       "      <td>First and Last Letter</td>\n",
       "      <td>Naive Bayes</td>\n",
       "      <td>2000</td>\n",
       "      <td>True</td>\n",
       "      <td>0.769838</td>\n",
       "    </tr>\n",
       "    <tr>\n",
       "      <th>4</th>\n",
       "      <td>Sets of two adjacent letters</td>\n",
       "      <td>Naive Bayes</td>\n",
       "      <td>2000</td>\n",
       "      <td>True</td>\n",
       "      <td>0.724467</td>\n",
       "    </tr>\n",
       "    <tr>\n",
       "      <th>5</th>\n",
       "      <td>Last letter and last 3 letters</td>\n",
       "      <td>Naive Bayes</td>\n",
       "      <td>500</td>\n",
       "      <td>False</td>\n",
       "      <td>0.780386</td>\n",
       "    </tr>\n",
       "    <tr>\n",
       "      <th>6</th>\n",
       "      <td>Last letter and last 3 letters</td>\n",
       "      <td>Decision Tree</td>\n",
       "      <td>500</td>\n",
       "      <td>False</td>\n",
       "      <td>0.671803</td>\n",
       "    </tr>\n",
       "    <tr>\n",
       "      <th>7</th>\n",
       "      <td>First letter, first 2 letters, last letter, an...</td>\n",
       "      <td>Decision Tree</td>\n",
       "      <td>500</td>\n",
       "      <td>False</td>\n",
       "      <td>0.652074</td>\n",
       "    </tr>\n",
       "    <tr>\n",
       "      <th>8</th>\n",
       "      <td>Combinations of 2 letters, first 2 letters, an...</td>\n",
       "      <td>Decision Tree</td>\n",
       "      <td>500</td>\n",
       "      <td>False</td>\n",
       "      <td>0.663594</td>\n",
       "    </tr>\n",
       "    <tr>\n",
       "      <th>9</th>\n",
       "      <td>Combinations of 2 letters, first 2 letters, an...</td>\n",
       "      <td>Decision Tree</td>\n",
       "      <td>2000</td>\n",
       "      <td>True</td>\n",
       "      <td>0.719140</td>\n",
       "    </tr>\n",
       "    <tr>\n",
       "      <th>10</th>\n",
       "      <td>Combinations of 2 letters, first vowel, first ...</td>\n",
       "      <td>Decision Tree</td>\n",
       "      <td>2000</td>\n",
       "      <td>True</td>\n",
       "      <td>0.719140</td>\n",
       "    </tr>\n",
       "    <tr>\n",
       "      <th>11</th>\n",
       "      <td>Combinations of 2 letters, first vowel, first ...</td>\n",
       "      <td>Naive Bayes</td>\n",
       "      <td>2000</td>\n",
       "      <td>True</td>\n",
       "      <td>0.771859</td>\n",
       "    </tr>\n",
       "    <tr>\n",
       "      <th>12</th>\n",
       "      <td>First vowel, first 1 letter, and last 3 letters</td>\n",
       "      <td>Naive Bayes</td>\n",
       "      <td>2000</td>\n",
       "      <td>True</td>\n",
       "      <td>0.759368</td>\n",
       "    </tr>\n",
       "    <tr>\n",
       "      <th>13</th>\n",
       "      <td>First vowel, first 1 letter, and last 3 letters</td>\n",
       "      <td>Decision Tree</td>\n",
       "      <td>2000</td>\n",
       "      <td>True</td>\n",
       "      <td>0.720242</td>\n",
       "    </tr>\n",
       "  </tbody>\n",
       "</table>\n",
       "</div>"
      ],
      "text/plain": [
       "                                             Approach     Model Type  \\\n",
       "0                   Last Letter Only (from NLTK book)    Naive Bayes   \n",
       "1              First and Last Letter (from NLTK book)    Naive Bayes   \n",
       "2                               First and Last Letter    Naive Bayes   \n",
       "3                               First and Last Letter    Naive Bayes   \n",
       "4                        Sets of two adjacent letters    Naive Bayes   \n",
       "5                      Last letter and last 3 letters    Naive Bayes   \n",
       "6                      Last letter and last 3 letters  Decision Tree   \n",
       "7   First letter, first 2 letters, last letter, an...  Decision Tree   \n",
       "8   Combinations of 2 letters, first 2 letters, an...  Decision Tree   \n",
       "9   Combinations of 2 letters, first 2 letters, an...  Decision Tree   \n",
       "10  Combinations of 2 letters, first vowel, first ...  Decision Tree   \n",
       "11  Combinations of 2 letters, first vowel, first ...    Naive Bayes   \n",
       "12    First vowel, first 1 letter, and last 3 letters    Naive Bayes   \n",
       "13    First vowel, first 1 letter, and last 3 letters  Decision Tree   \n",
       "\n",
       "    Train Size  Training split 50-50  Test Set Score  \n",
       "0          500                 False        0.762000  \n",
       "1          500                 False        0.777000  \n",
       "2          500                  True        0.767000  \n",
       "3         2000                  True        0.769838  \n",
       "4         2000                  True        0.724467  \n",
       "5          500                 False        0.780386  \n",
       "6          500                 False        0.671803  \n",
       "7          500                 False        0.652074  \n",
       "8          500                 False        0.663594  \n",
       "9         2000                  True        0.719140  \n",
       "10        2000                  True        0.719140  \n",
       "11        2000                  True        0.771859  \n",
       "12        2000                  True        0.759368  \n",
       "13        2000                  True        0.720242  "
      ]
     },
     "execution_count": 74,
     "metadata": {},
     "output_type": "execute_result"
    }
   ],
   "source": [
    "df1.loc[len(df1.index)] = ['First vowel, first 1 letter, and last 3 letters',\n",
    "                           \"Decision Tree\",\n",
    "                           trainingSize , True, nltk.classify.accuracy(classifier, test_set)]\n",
    "df1"
   ]
  },
  {
   "cell_type": "markdown",
   "id": "0d1e9b2d",
   "metadata": {},
   "source": [
    "##### It's puzzling to me that our best overall approach worked so well with a Naive Bayes approach and so poorly wth a Decsion Tree"
   ]
  },
  {
   "cell_type": "markdown",
   "id": "d1ae4751",
   "metadata": {},
   "source": [
    "## Conclusion: It's challenging to generalize names.  Maybe other modeling techniques should be applied."
   ]
  },
  {
   "cell_type": "code",
   "execution_count": null,
   "id": "82420895",
   "metadata": {},
   "outputs": [],
   "source": []
  }
 ],
 "metadata": {
  "kernelspec": {
   "display_name": "Python 3 (ipykernel)",
   "language": "python",
   "name": "python3"
  },
  "language_info": {
   "codemirror_mode": {
    "name": "ipython",
    "version": 3
   },
   "file_extension": ".py",
   "mimetype": "text/x-python",
   "name": "python",
   "nbconvert_exporter": "python",
   "pygments_lexer": "ipython3",
   "version": "3.8.13"
  }
 },
 "nbformat": 4,
 "nbformat_minor": 5
}
